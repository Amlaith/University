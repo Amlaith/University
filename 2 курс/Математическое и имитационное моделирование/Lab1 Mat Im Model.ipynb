{
 "cells": [
  {
   "cell_type": "code",
   "execution_count": 50,
   "metadata": {},
   "outputs": [],
   "source": [
    "import numpy as np\n",
    "\n",
    "P = np.array([\n",
    "    [.2, .3, .5],\n",
    "    [.4, .2, .4],\n",
    "    [.5, .3, .2]    \n",
    "])\n",
    "\n",
    "A0 = np.array([1, 0, 0])\n"
   ]
  },
  {
   "cell_type": "code",
   "execution_count": 51,
   "metadata": {},
   "outputs": [],
   "source": [
    "# 1. Матрица переходных состояний за k шагов\n",
    "def p_on_step_k(p, k):\n",
    "    res_p = p.copy()\n",
    "    for _ in range(k-1):\n",
    "        res_p = res_p @ p\n",
    "    return res_p\n"
   ]
  },
  {
   "cell_type": "code",
   "execution_count": 52,
   "metadata": {},
   "outputs": [
    {
     "data": {
      "text/plain": [
       "array([[0.2, 0.3, 0.5],\n",
       "       [0.4, 0.2, 0.4],\n",
       "       [0.5, 0.3, 0.2]])"
      ]
     },
     "execution_count": 52,
     "metadata": {},
     "output_type": "execute_result"
    }
   ],
   "source": [
    "p_on_step_k(P, 1)"
   ]
  },
  {
   "cell_type": "code",
   "execution_count": 10,
   "metadata": {},
   "outputs": [],
   "source": [
    "# 2. Вероятность состояний спустя k шагов\n",
    "def a_on_step_k(a, p, k):\n",
    "    return a @ p_on_step_k(p, k)"
   ]
  },
  {
   "cell_type": "code",
   "execution_count": 14,
   "metadata": {},
   "outputs": [
    {
     "data": {
      "text/plain": [
       "array([0.2, 0.3, 0.5])"
      ]
     },
     "execution_count": 14,
     "metadata": {},
     "output_type": "execute_result"
    }
   ],
   "source": [
    "a_on_step_k(A0, P, 1)"
   ]
  },
  {
   "cell_type": "code",
   "execution_count": 53,
   "metadata": {},
   "outputs": [],
   "source": [
    "# 3. Вероятность первого перехода за k шагов\n",
    "\n",
    "def first_on_step_k(p, k):\n",
    "    if k == 0:\n",
    "        return \n",
    "    if k == 1:\n",
    "        return p\n",
    "    \n",
    "    m = len(p)\n",
    "    n = len(p[0])\n",
    "    \n",
    "    res = np.zeros((m, n))\n",
    "    \n",
    "    pre = first_on_step_k(p, k-1)\n",
    "    for i in range(m):\n",
    "        for j in range(n):\n",
    "            row = p[i].copy()\n",
    "            row[j] = 0\n",
    "            col = pre[:,j].copy()\n",
    "            col[j] = 0\n",
    "            res[i, j] = np.dot(row, col)\n",
    "    \n",
    "    return res    \n",
    "    "
   ]
  },
  {
   "cell_type": "code",
   "execution_count": 55,
   "metadata": {},
   "outputs": [
    {
     "data": {
      "text/plain": [
       "array([[0.37, 0.21, 0.22],\n",
       "       [0.28, 0.24, 0.28],\n",
       "       [0.22, 0.21, 0.37]])"
      ]
     },
     "execution_count": 55,
     "metadata": {},
     "output_type": "execute_result"
    }
   ],
   "source": [
    "first_on_step_k(P, 2)"
   ]
  },
  {
   "cell_type": "code",
   "execution_count": 1,
   "metadata": {},
   "outputs": [
    {
     "ename": "SyntaxError",
     "evalue": "invalid syntax (<ipython-input-1-055c50df23b2>, line 2)",
     "output_type": "error",
     "traceback": [
      "\u001b[1;36m  File \u001b[1;32m\"<ipython-input-1-055c50df23b2>\"\u001b[1;36m, line \u001b[1;32m2\u001b[0m\n\u001b[1;33m    no_later_then_k(p, k):\u001b[0m\n\u001b[1;37m                          ^\u001b[0m\n\u001b[1;31mSyntaxError\u001b[0m\u001b[1;31m:\u001b[0m invalid syntax\n"
     ]
    }
   ],
   "source": [
    "# 3.1 Вероятность перехода не позднее чем за k шагов\n",
    "no_later_then_k(p, k):\n",
    "    res = np.zeros((len(p), len(p[0])))\n",
    "    for i in range(1, k):\n",
    "        res = res + first_on_step_k(p, i)\n",
    "    return res"
   ]
  },
  {
   "cell_type": "code",
   "execution_count": null,
   "metadata": {},
   "outputs": [],
   "source": [
    "3.2"
   ]
  },
  {
   "cell_type": "code",
   "execution_count": 27,
   "metadata": {},
   "outputs": [
    {
     "data": {
      "text/plain": [
       "4"
      ]
     },
     "execution_count": 27,
     "metadata": {},
     "output_type": "execute_result"
    }
   ],
   "source": [
    "a = np.zeros((3,4))\n",
    "# help(np.zeros)\n",
    "a[2,1] = 3"
   ]
  },
  {
   "cell_type": "code",
   "execution_count": 32,
   "metadata": {},
   "outputs": [
    {
     "data": {
      "text/plain": [
       "array([[0],\n",
       "       [3],\n",
       "       [6]])"
      ]
     },
     "execution_count": 32,
     "metadata": {},
     "output_type": "execute_result"
    }
   ],
   "source": [
    "t = np.arange(9).reshape((3,3))\n",
    "t[:, [0]]\n",
    "    [.2, .3, .5],\n",
    "    [.4, .2, .4],\n",
    "    [.5, .3, .2] "
   ]
  },
  {
   "cell_type": "code",
   "execution_count": 49,
   "metadata": {},
   "outputs": [
    {
     "data": {
      "text/plain": [
       "array([[0. , 0.3, 0.5],\n",
       "       [0.4, 0. , 0.4],\n",
       "       [0.5, 0.3, 0. ]])"
      ]
     },
     "execution_count": 49,
     "metadata": {},
     "output_type": "execute_result"
    }
   ],
   "source": []
  }
 ],
 "metadata": {
  "kernelspec": {
   "display_name": "Python 3",
   "language": "python",
   "name": "python3"
  },
  "language_info": {
   "codemirror_mode": {
    "name": "ipython",
    "version": 3
   },
   "file_extension": ".py",
   "mimetype": "text/x-python",
   "name": "python",
   "nbconvert_exporter": "python",
   "pygments_lexer": "ipython3",
   "version": "3.8.3"
  }
 },
 "nbformat": 4,
 "nbformat_minor": 4
}
