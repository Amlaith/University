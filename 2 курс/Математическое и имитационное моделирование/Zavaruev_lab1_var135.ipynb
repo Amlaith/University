{
 "cells": [
  {
   "cell_type": "markdown",
   "metadata": {},
   "source": [
    "# Иван Заваруев\n",
    "## ПИ19-1в\n",
    "## Вариант 135"
   ]
  },
  {
   "cell_type": "markdown",
   "metadata": {},
   "source": [
    "### Задание 1"
   ]
  },
  {
   "cell_type": "markdown",
   "metadata": {},
   "source": [
    "![title](var_135.png)"
   ]
  },
  {
   "cell_type": "code",
   "execution_count": 16,
   "metadata": {},
   "outputs": [],
   "source": [
    "import numpy as np\n",
    "from functools import lru_cache\n",
    "\n",
    "P = np.array([\n",
    "    #  1    2    3    4    5    6    7    8    9   10   11 \n",
    "    [.06, .50, .00, .00, .44, .00, .00, .00, .00, .00, .00], #1\n",
    "    [.00, .10, .90, .00, .00, .00, .00, .00, .00, .00, .00], #2\n",
    "    [.29, .00, .40, .00, .00, .02, .29, .00, .00, .00, .00], #3\n",
    "    [.24, .18, .00, .05, .00, .00, .53, .00, .00, .00, .00], #4\n",
    "    [.18, .44, .00, .00, .27, .00, .00, .11, .00, .00, .00], #5\n",
    "    [.00, .00, .26, .07, .00, .09, .28, .00, .05, .00, .25], #6\n",
    "    [.00, .00, .01, .17, .00, .16, .31, .00, .12, .09, .14], #7\n",
    "    [.00, .00, .53, .00, .00, .00, .00, .47, .00, .00, .00], #8\n",
    "    [.00, .00, .00, .00, .00, .23, .00, .16, .24, .37, .00], #9\n",
    "    [.00, .00, .00, .00, .00, .00, .42, .00, .00, .58, .00], #10\n",
    "    [.00, .00, .00, .00, .00, .00, .31, .62, .00, .00, .07], #11\n",
    "    #  1    2    3    4    5    6    7    8    9   10   11\n",
    "])"
   ]
  },
  {
   "cell_type": "code",
   "execution_count": 14,
   "metadata": {},
   "outputs": [
    {
     "name": "stdout",
     "output_type": "stream",
     "text": [
      "Вероятность перехода из 1 в 5 за 10 шагов: 0.06\n"
     ]
    }
   ],
   "source": [
    "# 1. Вероятность того, что за 10 шагов система перейдет из состояния 1 в состояние 5\n",
    "\n",
    "@lru_cache\n",
    "def p_on_step_k(k):\n",
    "    res_p = P.copy()\n",
    "    for _ in range(k-1):\n",
    "        res_p = res_p @ P\n",
    "    return res_p\n",
    "\n",
    "print(f'Вероятность перехода из 1 в 5 за 10 шагов: {p_on_step_k(10)[0][4]:.2f}')"
   ]
  },
  {
   "cell_type": "code",
   "execution_count": 15,
   "metadata": {
    "scrolled": true
   },
   "outputs": [
    {
     "name": "stdout",
     "output_type": "stream",
     "text": [
      "Вероятности состояний системы спустя 7 шагов:\n",
      " 0: 0.0871546822271336\n",
      " 1: 0.08129063264853481\n",
      " 2: 0.21662844200142592\n",
      " 3: 0.043295285922233404\n",
      " 4: 0.05147282604516511\n",
      " 5: 0.05317687583170191\n",
      " 6: 0.21938228485790617\n",
      " 7: 0.0780214109642064\n",
      " 8: 0.0383312274968078\n",
      " 9: 0.0837570454834561\n",
      "10: 0.0474892865214288\n"
     ]
    }
   ],
   "source": [
    "# 2. Вероятности состояний системы спустя 7 шагов\n",
    "A0 = [.05, .17, .0, .19, .05, .02, .02, .17, .17, .14, .02]\n",
    "\n",
    "def a_on_step_k(a, k):\n",
    "    return a @ p_on_step_k(k)\n",
    "\n",
    "res = a_on_step_k(A0, 7)\n",
    "print('Вероятности состояний системы спустя 7 шагов:')\n",
    "for i, item in enumerate(res):\n",
    "    print(f'{i:>2}: {item}')"
   ]
  },
  {
   "cell_type": "code",
   "execution_count": 4,
   "metadata": {},
   "outputs": [
    {
     "name": "stdout",
     "output_type": "stream",
     "text": [
      "Вероятность первого перехода за 9 шагов из состояния 7 в состояние 11: 0.027672697647903262\n"
     ]
    }
   ],
   "source": [
    "# 3. Вероятность первого перехода за 9 шагов из состояния 7 в состояние 11\n",
    "\n",
    "@lru_cache\n",
    "def first_on_step_k(k):\n",
    "    if k == 0:\n",
    "        return np.eye(len(P))\n",
    "    if k == 1:\n",
    "        return P\n",
    "    \n",
    "    m = len(P)    \n",
    "    res = np.zeros((m, m))\n",
    "    \n",
    "    pre = first_on_step_k(k-1)\n",
    "    \n",
    "    for i in range(m):\n",
    "        for j in range(m):\n",
    "            tmp = 0\n",
    "            for k in range(m):\n",
    "                tmp += (k != j) and (P[i][k] * pre[k][j])\n",
    "            res[i, j] = tmp\n",
    "    \n",
    "    return res    \n",
    "\n",
    "print(f'Вероятность первого перехода за 9 шагов из состояния 7 в состояние 11: \\\n",
    "{first_on_step_k(9)[6][10]}')"
   ]
  },
  {
   "cell_type": "code",
   "execution_count": 5,
   "metadata": {},
   "outputs": [
    {
     "name": "stdout",
     "output_type": "stream",
     "text": [
      "Bероятность перехода из состояния 5 в состояние 10 не позднее чем за 10 шагов: 0.1379495907811075\n"
     ]
    }
   ],
   "source": [
    "# 4. Bероятность перехода из состояния 5 в состояние 10 не позднее чем за 10 шагов\n",
    "\n",
    "def no_later_than_k(k, a, b):\n",
    "    res = 0\n",
    "    for i in range(1, k):\n",
    "        res = res + first_on_step_k(i)[a-1][b-1]\n",
    "    return res\n",
    "\n",
    "print(f'Bероятность перехода из состояния 5 в состояние 10 не позднее чем за 10 шагов: \\\n",
    "{no_later_than_k(10, 5, 10)}')"
   ]
  },
  {
   "cell_type": "code",
   "execution_count": 6,
   "metadata": {},
   "outputs": [
    {
     "name": "stdout",
     "output_type": "stream",
     "text": [
      "Cреднее количество шагов для перехода из состояния 10 в состояние 3: 11.007828336481412\n"
     ]
    }
   ],
   "source": [
    "# 5. Cреднее количество шагов для перехода из состояния 10 в состояние 3\n",
    "def avg_steps(a, b):\n",
    "    res = 0\n",
    "    for i in range(10000):\n",
    "        res += i * first_on_step_k(i)[a-1][b-1]\n",
    "    return res\n",
    "\n",
    "print(f'Cреднее количество шагов для перехода из состояния 10 в состояние 3: \\\n",
    "{avg_steps(10, 3)}')"
   ]
  },
  {
   "cell_type": "code",
   "execution_count": 7,
   "metadata": {},
   "outputs": [
    {
     "name": "stdout",
     "output_type": "stream",
     "text": [
      "Bероятность первого возвращения в состояние 6 за 7 шагов: 0.0331950630166\n"
     ]
    }
   ],
   "source": [
    "# 6. Bероятность первого возвращения в состояние 6 за 7 шагов\n",
    "\n",
    "@lru_cache\n",
    "def first_back_on_k(k, a):\n",
    "    \n",
    "    if k == 1:\n",
    "        return P[a][a]\n",
    "    \n",
    "    return p_on_step_k(k)[a][a] -\\\n",
    "        sum([first_back_on_k(m, a) * p_on_step_k(k-m)[a][a] for m in range(1, k)])\n",
    "\n",
    "print(f'Bероятность первого возвращения в состояние 6 за 7 шагов: \\\n",
    "{first_back_on_k(7, 5)}')"
   ]
  },
  {
   "cell_type": "code",
   "execution_count": 8,
   "metadata": {},
   "outputs": [
    {
     "name": "stdout",
     "output_type": "stream",
     "text": [
      "Bероятность возвращения в состояние 11 не позднее чем за 6 шагов: 0.243783987356\n"
     ]
    }
   ],
   "source": [
    "# 7. Bероятность возвращения в состояние 11 не позднее чем за 6 шагов\n",
    "\n",
    "def back_no_later_than_k(k, a):\n",
    "    return sum([first_back_on_k(t, a) for t in range(1, k+1)])\n",
    "\n",
    "print(f'Bероятность возвращения в состояние 11 не позднее чем за 6 шагов: \\\n",
    "{back_no_later_than_k(6, 10)}')"
   ]
  },
  {
   "cell_type": "code",
   "execution_count": 10,
   "metadata": {},
   "outputs": [
    {
     "name": "stdout",
     "output_type": "stream",
     "text": [
      "Cреднее время возвращения в состояние 10: 10.367803375972475\n"
     ]
    }
   ],
   "source": [
    "# 8. Cреднее время возвращения в состояние 10\n",
    "\n",
    "def avg_time_back_to_a(a):\n",
    "    return sum([t * first_back_on_k(t, a) for t in range(1, 100)])\n",
    "\n",
    "print(f'Cреднее время возвращения в состояние 10: {avg_time_back_to_a(9)}')"
   ]
  },
  {
   "cell_type": "code",
   "execution_count": 13,
   "metadata": {
    "scrolled": true
   },
   "outputs": [
    {
     "name": "stdout",
     "output_type": "stream",
     "text": [
      "Установившиеся вероятности:\n",
      " 0: 0.053460872340597286\n",
      " 1: 0.04254506141589115\n",
      " 2: 0.1446228877147753\n",
      " 3: 0.030358890891404717\n",
      " 4: 0.02352278382986286\n",
      " 5: 0.03414917870070567\n",
      " 6: 0.1645202846020898\n",
      " 7: 0.18077045874013004\n",
      " 8: 0.021449893087286065\n",
      " 9: 0.02274328605648393\n",
      "10: 0.2818564026207731\n"
     ]
    }
   ],
   "source": [
    "# 9. Установившиеся вероятности\n",
    "import copy\n",
    "\n",
    "# Матрица\n",
    "\n",
    "M_ = copy.deepcopy(P)\n",
    "M_ = np.transpose(M_)\n",
    "size = len(P)\n",
    "\n",
    "for i in range(size):\n",
    "    M_[i][i] = -P[i].sum()\n",
    "\n",
    "# Расчет\n",
    "\n",
    "B = np.zeros(size)\n",
    "B[-1] = 1\n",
    "M_[-1] = 1\n",
    "\n",
    "\n",
    "M_1 = np.linalg.inv(M_)\n",
    "\n",
    "X = M_1@B\n",
    "\n",
    "print('Установившиеся вероятности:')\n",
    "for i, item in enumerate(X):\n",
    "    print(f'{i:>2}: {item}')"
   ]
  },
  {
   "cell_type": "markdown",
   "metadata": {},
   "source": [
    "### Задание 2"
   ]
  },
  {
   "cell_type": "code",
   "execution_count": 1,
   "metadata": {},
   "outputs": [],
   "source": [
    "import numpy as np\n",
    "\n",
    "enq = 5 # lambda\n",
    "deq = 3 # nu\n",
    "channels = 2 # m\n",
    "maxq = 5 # n\n"
   ]
  },
  {
   "cell_type": "markdown",
   "metadata": {},
   "source": [
    "### Матрица интенсивностей переходов"
   ]
  },
  {
   "cell_type": "code",
   "execution_count": 2,
   "metadata": {
    "scrolled": false
   },
   "outputs": [
    {
     "name": "stdout",
     "output_type": "stream",
     "text": [
      "[[0. 5. 0. 0. 0. 0. 0. 0.]\n",
      " [3. 0. 5. 0. 0. 0. 0. 0.]\n",
      " [0. 6. 0. 5. 0. 0. 0. 0.]\n",
      " [0. 0. 6. 0. 5. 0. 0. 0.]\n",
      " [0. 0. 0. 6. 0. 5. 0. 0.]\n",
      " [0. 0. 0. 0. 6. 0. 5. 0.]\n",
      " [0. 0. 0. 0. 0. 6. 0. 5.]\n",
      " [0. 0. 0. 0. 0. 0. 6. 0.]]\n"
     ]
    }
   ],
   "source": [
    "size = channels + maxq + 1\n",
    "L = np.zeros((size, size))\n",
    "\n",
    "for i in range(size):\n",
    "    for j in range(size):\n",
    "        if i - j == -1:\n",
    "            L[i][j] = enq\n",
    "        elif i - j == 1:\n",
    "            L[i][j] = deq * i if i < channels else deq * channels\n",
    "\n",
    "\n",
    "print(L)"
   ]
  },
  {
   "cell_type": "markdown",
   "metadata": {},
   "source": [
    "## 1. Рассчитываем установившиеся вероятности"
   ]
  },
  {
   "cell_type": "code",
   "execution_count": 3,
   "metadata": {},
   "outputs": [
    {
     "name": "stdout",
     "output_type": "stream",
     "text": [
      "[0.12181479 0.20302466 0.16918721 0.14098934 0.11749112 0.09790927\n",
      " 0.08159106 0.06799255]\n"
     ]
    }
   ],
   "source": [
    "import copy\n",
    "\n",
    "# Матрица\n",
    "\n",
    "M_ = copy.deepcopy(L)\n",
    "M_ = np.transpose(M_)\n",
    "\n",
    "for i in range(size):\n",
    "    M_[i][i] = -L[i].sum()\n",
    "            \n",
    "\n",
    "# print(M_) \n",
    "\n",
    "# Расчет\n",
    "\n",
    "B = np.zeros(size)\n",
    "B[-1] = 1\n",
    "M_[-1] = 1\n",
    "\n",
    "# print(M_)\n",
    "# print(B)\n",
    "\n",
    "M_1 = np.linalg.inv(M_)\n",
    "# print(M_1)\n",
    "\n",
    "X = M_1@B\n",
    "\n",
    "print(X)"
   ]
  },
  {
   "cell_type": "markdown",
   "metadata": {},
   "source": [
    "### 1.b Вероятность отказа в обслуживании"
   ]
  },
  {
   "cell_type": "code",
   "execution_count": 4,
   "metadata": {},
   "outputs": [
    {
     "data": {
      "text/plain": [
       "0.06799254671142352"
      ]
     },
     "execution_count": 4,
     "metadata": {},
     "output_type": "execute_result"
    }
   ],
   "source": [
    "p_otkaza = X[-1]\n",
    "\n",
    "p_otkaza"
   ]
  },
  {
   "cell_type": "markdown",
   "metadata": {},
   "source": [
    "### 1.c Пропускная способность"
   ]
  },
  {
   "cell_type": "code",
   "execution_count": 5,
   "metadata": {},
   "outputs": [
    {
     "name": "stdout",
     "output_type": "stream",
     "text": [
      "Относительная пропускная способность: 0.9320074532885765\n",
      "Абсолютная пропускная способность: 4.660037266442883\n"
     ]
    }
   ],
   "source": [
    "# Относительная\n",
    "\n",
    "q = 1 - p_otkaza\n",
    "print('Относительная пропускная способность:', q)\n",
    "\n",
    "# Абсолютная\n",
    "\n",
    "A = q * enq\n",
    "print('Абсолютная пропускная способность:', A)"
   ]
  },
  {
   "cell_type": "markdown",
   "metadata": {},
   "source": [
    "### 1.d Средняя длина очереди"
   ]
  },
  {
   "cell_type": "code",
   "execution_count": 12,
   "metadata": {},
   "outputs": [
    {
     "name": "stdout",
     "output_type": "stream",
     "text": [
      "Средняя длина очереди:  1.3360263458607875\n"
     ]
    }
   ],
   "source": [
    "avg_q_len = 0\n",
    "\n",
    "for i in range(maxq + 1):\n",
    "    avg_q_len += i * X[channels + i]\n",
    "\n",
    "print('Средняя длина очереди: ', avg_q_len)"
   ]
  },
  {
   "cell_type": "markdown",
   "metadata": {},
   "source": [
    "### 1.e Среднее время в очереди"
   ]
  },
  {
   "cell_type": "code",
   "execution_count": 15,
   "metadata": {},
   "outputs": [
    {
     "name": "stdout",
     "output_type": "stream",
     "text": [
      "Среднее время в очереди:  0.26720526917215753\n"
     ]
    }
   ],
   "source": [
    "avg_time_in_q = 0\n",
    "\n",
    "for i in range(maxq):\n",
    "    avg_time_in_q += ((i + 1) / (channels * deq)) * X[channels + i]\n",
    "    \n",
    "print('Среднее время в очереди: ', avg_time_in_q)"
   ]
  },
  {
   "cell_type": "markdown",
   "metadata": {},
   "source": [
    "### 1.f Среднее кол-во занятых каналов"
   ]
  },
  {
   "cell_type": "code",
   "execution_count": 8,
   "metadata": {},
   "outputs": [
    {
     "name": "stdout",
     "output_type": "stream",
     "text": [
      "Среднее количество занятых каналов:  1.078986234392175\n"
     ]
    }
   ],
   "source": [
    "avg_busy_channels = 0\n",
    "\n",
    "for i in range(channels):\n",
    "    avg_busy_channels += i * X[i]\n",
    "    \n",
    "for i in range(channels + 1, channels + maxq):\n",
    "    avg_busy_channels += channels * X[i]\n",
    "\n",
    "print('Среднее количество занятых каналов: ', avg_busy_channels)"
   ]
  },
  {
   "cell_type": "markdown",
   "metadata": {},
   "source": [
    "### 1.g Вероятность того, что поступающая заявка не будет ждать в очереди"
   ]
  },
  {
   "cell_type": "code",
   "execution_count": 9,
   "metadata": {},
   "outputs": [
    {
     "name": "stdout",
     "output_type": "stream",
     "text": [
      "Вероятность того, что поступающая заявка не будет ждать в очереди:  0.3248394505593013\n"
     ]
    }
   ],
   "source": [
    "p_no_wait = sum(X[:channels])\n",
    "\n",
    "print('Вероятность того, что поступающая заявка не будет ждать в очереди: ', p_no_wait)"
   ]
  },
  {
   "cell_type": "markdown",
   "metadata": {},
   "source": [
    "### 1.h Среднее время однократного простоя системы массового обслуживания."
   ]
  },
  {
   "cell_type": "code",
   "execution_count": 10,
   "metadata": {},
   "outputs": [
    {
     "name": "stdout",
     "output_type": "stream",
     "text": [
      "Среднее время однократного простоя СМО:\n",
      "Состояние\t\tВремя\n",
      "0\t\t0.2\n",
      "1\t\t0.125\n",
      "2\t\t0.09090909090909091\n",
      "3\t\t0.09090909090909091\n",
      "4\t\t0.09090909090909091\n",
      "5\t\t0.09090909090909091\n",
      "6\t\t0.09090909090909091\n",
      "7\t\t0.16666666666666666\n"
     ]
    }
   ],
   "source": [
    "avg_time_in_state = [1 / sum(line) for line in L]\n",
    "\n",
    "print('Среднее время однократного простоя СМО:')\n",
    "print('Состояние\\t\\tВремя')\n",
    "for i, time in enumerate(avg_time_in_state):\n",
    "    print(f'{i}\\t\\t{time}')"
   ]
  }
 ],
 "metadata": {
  "kernelspec": {
   "display_name": "Python 3",
   "language": "python",
   "name": "python3"
  },
  "language_info": {
   "codemirror_mode": {
    "name": "ipython",
    "version": 3
   },
   "file_extension": ".py",
   "mimetype": "text/x-python",
   "name": "python",
   "nbconvert_exporter": "python",
   "pygments_lexer": "ipython3",
   "version": "3.8.3"
  }
 },
 "nbformat": 4,
 "nbformat_minor": 4
}
