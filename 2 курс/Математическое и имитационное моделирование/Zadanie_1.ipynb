{
 "cells": [
  {
   "cell_type": "code",
   "execution_count": 1,
   "metadata": {},
   "outputs": [],
   "source": [
    "import numpy as np\n",
    "from functools import lru_cache\n",
    "\n",
    "P = np.array([\n",
    "    #  1    2    3    4    5    6    7    8    9   10   11 \n",
    "    [.06, .50, .00, .00, .44, .00, .00, .00, .00, .00, .00], #1\n",
    "    [.00, .10, .90, .00, .00, .00, .00, .00, .00, .00, .00], #2\n",
    "    [.29, .00, .40, .00, .00, .02, .29, .00, .00, .00, .00], #3\n",
    "    [.24, .18, .00, .05, .00, .00, .53, .00, .00, .00, .00], #4\n",
    "    [.18, .44, .00, .00, .27, .00, .00, .11, .00, .00, .00], #5\n",
    "    [.00, .00, .26, .07, .00, .09, .28, .00, .05, .00, .25], #6\n",
    "    [.00, .00, .01, .17, .00, .16, .31, .00, .12, .09, .14], #7\n",
    "    [.00, .00, .53, .00, .00, .00, .00, .47, .00, .00, .00], #8\n",
    "    [.00, .00, .00, .00, .00, .23, .00, .16, .24, .37, .00], #9\n",
    "    [.00, .00, .00, .00, .00, .00, .42, .00, .00, .58, .00], #10\n",
    "    [.00, .00, .00, .00, .00, .00, .31, .62, .00, .00, .07], #11\n",
    "    #  1    2    3    4    5    6    7    8    9   10   11\n",
    "])"
   ]
  },
  {
   "cell_type": "code",
   "execution_count": 14,
   "metadata": {},
   "outputs": [
    {
     "name": "stdout",
     "output_type": "stream",
     "text": [
      "Вероятность перехода из 1 в 5 за 10 шагов: 0.06\n"
     ]
    }
   ],
   "source": [
    "# 1. Вероятность того, что за 10 шагов система перейдет из состояния 1 в состояние 5\n",
    "\n",
    "@lru_cache\n",
    "def p_on_step_k(k):\n",
    "    res_p = P.copy()\n",
    "    for _ in range(k-1):\n",
    "        res_p = res_p @ P\n",
    "    return res_p\n",
    "\n",
    "print(f'Вероятность перехода из 1 в 5 за 10 шагов: {p_on_step_k(10)[0][4]:.2f}')"
   ]
  },
  {
   "cell_type": "code",
   "execution_count": 15,
   "metadata": {},
   "outputs": [
    {
     "name": "stdout",
     "output_type": "stream",
     "text": [
      "Вероятности состояний системы спустя 7 шагов:\n",
      " 0: 0.0871546822271336\n",
      " 1: 0.08129063264853481\n",
      " 2: 0.21662844200142592\n",
      " 3: 0.043295285922233404\n",
      " 4: 0.05147282604516511\n",
      " 5: 0.05317687583170191\n",
      " 6: 0.21938228485790617\n",
      " 7: 0.0780214109642064\n",
      " 8: 0.0383312274968078\n",
      " 9: 0.0837570454834561\n",
      "10: 0.0474892865214288\n"
     ]
    }
   ],
   "source": [
    "# 2. Вероятности состояний системы спустя 7 шагов\n",
    "A0 = [.05, .17, .0, .19, .05, .02, .02, .17, .17, .14, .02]\n",
    "\n",
    "def a_on_step_k(a, k):\n",
    "    return a @ p_on_step_k(k)\n",
    "\n",
    "res = a_on_step_k(A0, 7)\n",
    "print('Вероятности состояний системы спустя 7 шагов:')\n",
    "for i, item in enumerate(res):\n",
    "    print(f'{i:>2}: {item}')"
   ]
  },
  {
   "cell_type": "code",
   "execution_count": 4,
   "metadata": {},
   "outputs": [
    {
     "name": "stdout",
     "output_type": "stream",
     "text": [
      "Вероятность первого перехода за 9 шагов из состояния 7 в состояние 11: 0.027672697647903262\n"
     ]
    }
   ],
   "source": [
    "# 3. Вероятность первого перехода за 9 шагов из состояния 7 в состояние 11\n",
    "\n",
    "@lru_cache\n",
    "def first_on_step_k(k):\n",
    "    if k == 0:\n",
    "        return np.eye(len(P))\n",
    "    if k == 1:\n",
    "        return P\n",
    "    \n",
    "    m = len(P)    \n",
    "    res = np.zeros((m, m))\n",
    "    \n",
    "    pre = first_on_step_k(k-1)\n",
    "    \n",
    "    for i in range(m):\n",
    "        for j in range(m):\n",
    "            tmp = 0\n",
    "            for k in range(m):\n",
    "                tmp += (k != j) and (P[i][k] * pre[k][j])\n",
    "            res[i, j] = tmp\n",
    "    \n",
    "    return res    \n",
    "\n",
    "print(f'Вероятность первого перехода за 9 шагов из состояния 7 в состояние 11: \\\n",
    "{first_on_step_k(9)[6][10]}')"
   ]
  },
  {
   "cell_type": "code",
   "execution_count": 5,
   "metadata": {},
   "outputs": [
    {
     "name": "stdout",
     "output_type": "stream",
     "text": [
      "Bероятность перехода из состояния 5 в состояние 10 не позднее чем за 10 шагов: 0.1379495907811075\n"
     ]
    }
   ],
   "source": [
    "# 4. Bероятность перехода из состояния 5 в состояние 10 не позднее чем за 10 шагов\n",
    "\n",
    "def no_later_than_k(k, a, b):\n",
    "    res = 0\n",
    "    for i in range(1, k):\n",
    "        res = res + first_on_step_k(i)[a-1][b-1]\n",
    "    return res\n",
    "\n",
    "print(f'Bероятность перехода из состояния 5 в состояние 10 не позднее чем за 10 шагов: \\\n",
    "{no_later_than_k(10, 5, 10)}')"
   ]
  },
  {
   "cell_type": "code",
   "execution_count": 6,
   "metadata": {},
   "outputs": [
    {
     "name": "stdout",
     "output_type": "stream",
     "text": [
      "Cреднее количество шагов для перехода из состояния 10 в состояние 3: 11.007828336481412\n"
     ]
    }
   ],
   "source": [
    "# 5. Cреднее количество шагов для перехода из состояния 10 в состояние 3\n",
    "def avg_steps(a, b):\n",
    "    res = 0\n",
    "    for i in range(10000):\n",
    "        res += i * first_on_step_k(i)[a-1][b-1]\n",
    "    return res\n",
    "\n",
    "print(f'Cреднее количество шагов для перехода из состояния 10 в состояние 3: \\\n",
    "{avg_steps(10, 3)}')"
   ]
  },
  {
   "cell_type": "code",
   "execution_count": 7,
   "metadata": {},
   "outputs": [
    {
     "name": "stdout",
     "output_type": "stream",
     "text": [
      "Bероятность первого возвращения в состояние 6 за 7 шагов: 0.0331950630166\n"
     ]
    }
   ],
   "source": [
    "# 6. Bероятность первого возвращения в состояние 6 за 7 шагов\n",
    "\n",
    "@lru_cache\n",
    "def first_back_on_k(k, a):\n",
    "    \n",
    "    if k == 1:\n",
    "        return P[a][a]\n",
    "    \n",
    "    return p_on_step_k(k)[a][a] -\\\n",
    "        sum([first_back_on_k(m, a) * p_on_step_k(k-m)[a][a] for m in range(1, k)])\n",
    "\n",
    "print(f'Bероятность первого возвращения в состояние 6 за 7 шагов: \\\n",
    "{first_back_on_k(7, 5)}')"
   ]
  },
  {
   "cell_type": "code",
   "execution_count": 8,
   "metadata": {},
   "outputs": [
    {
     "name": "stdout",
     "output_type": "stream",
     "text": [
      "Bероятность возвращения в состояние 11 не позднее чем за 6 шагов: 0.243783987356\n"
     ]
    }
   ],
   "source": [
    "# 7. Bероятность возвращения в состояние 11 не позднее чем за 6 шагов\n",
    "\n",
    "def back_no_later_than_k(k, a):\n",
    "    return sum([first_back_on_k(t, a) for t in range(1, k+1)])\n",
    "\n",
    "print(f'Bероятность возвращения в состояние 11 не позднее чем за 6 шагов: \\\n",
    "{back_no_later_than_k(6, 10)}')"
   ]
  },
  {
   "cell_type": "code",
   "execution_count": 10,
   "metadata": {},
   "outputs": [
    {
     "name": "stdout",
     "output_type": "stream",
     "text": [
      "Cреднее время возвращения в состояние 10: 10.367803375972475\n"
     ]
    }
   ],
   "source": [
    "# 8. Cреднее время возвращения в состояние 10\n",
    "\n",
    "def avg_time_back_to_a(a):\n",
    "    return sum([t * first_back_on_k(t, a) for t in range(1, 100)])\n",
    "\n",
    "print(f'Cреднее время возвращения в состояние 10: {avg_time_back_to_a(9)}')"
   ]
  },
  {
   "cell_type": "code",
   "execution_count": 13,
   "metadata": {
    "scrolled": true
   },
   "outputs": [
    {
     "name": "stdout",
     "output_type": "stream",
     "text": [
      "Установившиеся вероятности:\n",
      " 0: 0.053460872340597286\n",
      " 1: 0.04254506141589115\n",
      " 2: 0.1446228877147753\n",
      " 3: 0.030358890891404717\n",
      " 4: 0.02352278382986286\n",
      " 5: 0.03414917870070567\n",
      " 6: 0.1645202846020898\n",
      " 7: 0.18077045874013004\n",
      " 8: 0.021449893087286065\n",
      " 9: 0.02274328605648393\n",
      "10: 0.2818564026207731\n"
     ]
    }
   ],
   "source": [
    "# 9. Установившиеся вероятности\n",
    "import copy\n",
    "\n",
    "# Матрица\n",
    "\n",
    "M_ = copy.deepcopy(P)\n",
    "M_ = np.transpose(M_)\n",
    "size = len(P)\n",
    "\n",
    "for i in range(size):\n",
    "    M_[i][i] = -P[i].sum()\n",
    "\n",
    "# Расчет\n",
    "\n",
    "B = np.zeros(size)\n",
    "B[-1] = 1\n",
    "M_[-1] = 1\n",
    "\n",
    "\n",
    "M_1 = np.linalg.inv(M_)\n",
    "\n",
    "X = M_1@B\n",
    "\n",
    "print('Установившиеся вероятности:')\n",
    "for i, item in enumerate(X):\n",
    "    print(f'{i:>2}: {item}')"
   ]
  }
 ],
 "metadata": {
  "kernelspec": {
   "display_name": "Python 3",
   "language": "python",
   "name": "python3"
  },
  "language_info": {
   "codemirror_mode": {
    "name": "ipython",
    "version": 3
   },
   "file_extension": ".py",
   "mimetype": "text/x-python",
   "name": "python",
   "nbconvert_exporter": "python",
   "pygments_lexer": "ipython3",
   "version": "3.8.3"
  }
 },
 "nbformat": 4,
 "nbformat_minor": 4
}
