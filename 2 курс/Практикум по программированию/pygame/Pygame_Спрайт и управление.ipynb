{
 "cells": [
  {
   "cell_type": "markdown",
   "metadata": {},
   "source": [
    "## Спрайт и управление\n",
    "\n",
    "Первое, что необходимо добавить — спрайт. Использовать прямоугольники вместо спрайтов. Важно добиться того, чтобы они отображались на экране и двигались так, как требуется. Заменить их потом любыми другими объектами не составит труда.\n",
    "\n",
    "Это начало спрайта:"
   ]
  },
  {
   "cell_type": "code",
   "execution_count": null,
   "metadata": {},
   "outputs": [],
   "source": [
    "class Player(pygame.sprite.Sprite):\n",
    "    def __init__(self):\n",
    "        pygame.sprite.Sprite.__init__(self)\n",
    "        self.image = pygame.Surface((50, 40))\n",
    "        self.image.fill(GREEN)\n",
    "        self.rect = self.image.get_rect()\n",
    "        self.rect.centerx = WIDTH / 2\n",
    "        self.rect.bottom = HEIGHT - 10\n",
    "        self.speedx = 0"
   ]
  },
  {
   "cell_type": "markdown",
   "metadata": {},
   "source": [
    "Для спрайта выбран размер 50х40 пикселей. Он будет находится по центру в нижней части экрана. Также есть свойство speedx, которое будет отслеживать, с какой скоростью двигается спрайт по оси x (со стороны в сторону). \n",
    "\n",
    "Метод update() спрайта запускается в каждом кадре. Он будет перемещать спрайт с конкретной скоростью:\n",
    "\n",
    "    def update(self):\n",
    "        self.rect.x += self.speedx\n",
    "          \n",
    "Теперь нужно показать спрайт, чтобы убедиться, что он отображается на экране:\n"
   ]
  },
  {
   "cell_type": "code",
   "execution_count": null,
   "metadata": {},
   "outputs": [],
   "source": [
    "all_sprites = pygame.sprite.Group()\n",
    "player = Player()\n",
    "all_sprites.add(player)"
   ]
  },
  {
   "cell_type": "markdown",
   "metadata": {},
   "source": [
    "Каждый созданный спрайт должен быть добавлен в группу all_sprites, так чтобы он обновлялся и прорисовывался на экране.\n",
    "\n",
    "#### Движение/управление\n",
    "Управлять в этой игре нужно будет с помощью клавиатуры, поэтому игрок должен будет двигаться при нажатии кнопок Влево или Вправо (это могут быть a или d).\n",
    "\n",
    "Когда речь заходит об использовании кнопок в игре, есть выбор, а это значит, что речь идет о Событиях:\n",
    "\n",
    "1 вариант: в этой очереди событий можно определить два события (по одному для каждой кнопки), каждое из которых будет менять скорость игрока, соответственно:"
   ]
  },
  {
   "cell_type": "code",
   "execution_count": null,
   "metadata": {},
   "outputs": [],
   "source": [
    " for event in pygame.event.get():\n",
    "        if event.type == pygame.KEYDOWN:\n",
    "            if event.key == pygame.K_LEFT:\n",
    "                player.speedx = -8\n",
    "            if event.key == pygame.K_RIGHT:\n",
    "                player.speedx = 8"
   ]
  },
  {
   "cell_type": "markdown",
   "metadata": {},
   "source": [
    "Проблема с этим методом в том, что после нажатия кнопки Спрайт двигается, но не останавливается. Нужно также добавить два события KEYUP, которые будут возвращать скорость к значению 0.\n",
    "\n",
    "2 вариант: установить скорость спрайта по умолчанию на значение 0, за исключением случаев, когда нажимаются кнопки Влево или Вправо. В результате движение будет более плавным, а код проще."
   ]
  },
  {
   "cell_type": "code",
   "execution_count": null,
   "metadata": {},
   "outputs": [],
   "source": [
    "def update(self):\n",
    "        self.speedx = 0\n",
    "        keystate = pygame.key.get_pressed()\n",
    "        if keystate[pygame.K_LEFT]:\n",
    "            self.speedx = -8\n",
    "        if keystate[pygame.K_RIGHT]:\n",
    "            self.speedx = 8\n",
    "        self.rect.x += self.speedx"
   ]
  },
  {
   "cell_type": "markdown",
   "metadata": {},
   "source": [
    "Этот код устанавливает скорость speedx на значении 0 для каждого кадра, а затем проверяет, не нажата ли кнопка. pygame.key.get_pressed() возвращает словарь со всеми клавишами клавиатуры и значениями True или False, которые указывают на то, нажата ли какая-то из них. Если одна из кнопок нажимается, скорость меняется соответственно.\n",
    "\n",
    "Наконец, нужно сделать так, чтобы спрайт не пропадал с экрана. Для этого нужно добавить этот код к update() спрайт:"
   ]
  },
  {
   "cell_type": "code",
   "execution_count": null,
   "metadata": {},
   "outputs": [],
   "source": [
    "if self.rect.right > WIDTH:\n",
    "            self.rect.right = WIDTH\n",
    "        if self.rect.left < 0:\n",
    "            self.rect.left = 0"
   ]
  },
  {
   "cell_type": "markdown",
   "metadata": {},
   "source": [
    "Теперь если rect попробует двигаться за пределы экрана, он остановится. Второй вариант — телепортировать спрайт с одного края экрана ко второму, когда он туда доберется. Но в этой игре предпочтительнее тормозить спрайт.\n",
    "\n",
    "Итоговый код:"
   ]
  },
  {
   "cell_type": "markdown",
   "metadata": {},
   "source": [
    "import pygame\n",
    "import random\n",
    "from pygame.locals import (\n",
    "    K_UP,\n",
    "    K_DOWN,\n",
    "    K_LEFT,\n",
    "    K_RIGHT,\n",
    "    K_ESCAPE,\n",
    "    KEYDOWN,\n",
    "    QUIT,\n",
    ")\n"
   ]
  },
  {
   "cell_type": "code",
   "execution_count": 12,
   "metadata": {},
   "outputs": [
    {
     "ename": "KeyboardInterrupt",
     "evalue": "",
     "output_type": "error",
     "traceback": [
      "\u001b[1;31m---------------------------------------------------------------------------\u001b[0m",
      "\u001b[1;31mKeyboardInterrupt\u001b[0m                         Traceback (most recent call last)",
      "\u001b[1;32m<ipython-input-12-1c51098b31ee>\u001b[0m in \u001b[0;36m<module>\u001b[1;34m\u001b[0m\n\u001b[0;32m     53\u001b[0m \u001b[1;32mwhile\u001b[0m \u001b[0mrunning\u001b[0m\u001b[1;33m:\u001b[0m\u001b[1;33m\u001b[0m\u001b[1;33m\u001b[0m\u001b[0m\n\u001b[0;32m     54\u001b[0m     \u001b[1;31m# Держим цикл на правильной скорости\u001b[0m\u001b[1;33m\u001b[0m\u001b[1;33m\u001b[0m\u001b[1;33m\u001b[0m\u001b[0m\n\u001b[1;32m---> 55\u001b[1;33m     \u001b[0mclock\u001b[0m\u001b[1;33m.\u001b[0m\u001b[0mtick\u001b[0m\u001b[1;33m(\u001b[0m\u001b[0mFPS\u001b[0m\u001b[1;33m)\u001b[0m\u001b[1;33m\u001b[0m\u001b[1;33m\u001b[0m\u001b[0m\n\u001b[0m\u001b[0;32m     56\u001b[0m     \u001b[1;31m# Ввод процесса (события)\u001b[0m\u001b[1;33m\u001b[0m\u001b[1;33m\u001b[0m\u001b[1;33m\u001b[0m\u001b[0m\n\u001b[0;32m     57\u001b[0m     \u001b[1;32mfor\u001b[0m \u001b[0mevent\u001b[0m \u001b[1;32min\u001b[0m \u001b[0mpygame\u001b[0m\u001b[1;33m.\u001b[0m\u001b[0mevent\u001b[0m\u001b[1;33m.\u001b[0m\u001b[0mget\u001b[0m\u001b[1;33m(\u001b[0m\u001b[1;33m)\u001b[0m\u001b[1;33m:\u001b[0m\u001b[1;33m\u001b[0m\u001b[1;33m\u001b[0m\u001b[0m\n",
      "\u001b[1;31mKeyboardInterrupt\u001b[0m: "
     ]
    }
   ],
   "source": [
    "# Cпрайт игрока и управление\n",
    "import pygame\n",
    "import random\n",
    "\n",
    "WIDTH = 480\n",
    "HEIGHT = 600\n",
    "FPS = 60\n",
    "\n",
    "# Задаем цвета\n",
    "WHITE = (255, 255, 255)\n",
    "BLACK = (0, 0, 0)\n",
    "RED = (255, 0, 0)\n",
    "GREEN = (0, 255, 0)\n",
    "BLUE = (0, 0, 255)\n",
    "YELLOW = (255, 255, 0)\n",
    "\n",
    "# Создаем игру и окно\n",
    "pygame.init()\n",
    "pygame.mixer.init()\n",
    "screen = pygame.display.set_mode((WIDTH, HEIGHT))\n",
    "pygame.display.set_caption(\"Shmup!\")\n",
    "clock = pygame.time.Clock()\n",
    "\n",
    "class Player(pygame.sprite.Sprite):\n",
    "    def __init__(self):\n",
    "        pygame.sprite.Sprite.__init__(self)\n",
    "        self.image = pygame.Surface((50, 40))\n",
    "        self.image.fill(GREEN)\n",
    "        self.rect = self.image.get_rect()\n",
    "        self.rect.centerx = WIDTH / 2\n",
    "        self.rect.bottom = HEIGHT - 10\n",
    "        self.speedx = 0\n",
    "\n",
    "    def update(self):\n",
    "        self.speedx = 0\n",
    "        keystate = pygame.key.get_pressed()\n",
    "        if keystate[pygame.K_LEFT]:\n",
    "            self.speedx = -8\n",
    "        if keystate[pygame.K_RIGHT]:\n",
    "            self.speedx = 8\n",
    "        self.rect.x += self.speedx\n",
    "        if self.rect.right > WIDTH:\n",
    "            self.rect.right = WIDTH\n",
    "        if self.rect.left < 0:\n",
    "            self.rect.left = 0\n",
    "\n",
    "all_sprites = pygame.sprite.Group()\n",
    "player = Player()\n",
    "all_sprites.add(player)\n",
    "\n",
    "# Цикл игры\n",
    "running = True\n",
    "while running:\n",
    "    # Держим цикл на правильной скорости\n",
    "    clock.tick(FPS)\n",
    "    # Ввод процесса (события)\n",
    "    for event in pygame.event.get():\n",
    "        # проверка для закрытия окна\n",
    "        if event.type == pygame.QUIT:\n",
    "            running = False\n",
    "\n",
    "    # Обновление\n",
    "    all_sprites.update()\n",
    "    \n",
    "    # Рендеринг\n",
    "    screen.fill(BLACK)\n",
    "    all_sprites.draw(screen)\n",
    "    # После отрисовки всего, переворачиваем экран\n",
    "    pygame.display.flip()\n",
    "\n",
    "pygame.quit()"
   ]
  },
  {
   "cell_type": "code",
   "execution_count": null,
   "metadata": {},
   "outputs": [],
   "source": []
  }
 ],
 "metadata": {
  "kernelspec": {
   "display_name": "Python 3",
   "language": "python",
   "name": "python3"
  },
  "language_info": {
   "codemirror_mode": {
    "name": "ipython",
    "version": 3
   },
   "file_extension": ".py",
   "mimetype": "text/x-python",
   "name": "python",
   "nbconvert_exporter": "python",
   "pygments_lexer": "ipython3",
   "version": "3.7.6"
  }
 },
 "nbformat": 4,
 "nbformat_minor": 4
}
