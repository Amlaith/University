{
 "cells": [
  {
   "cell_type": "markdown",
   "metadata": {},
   "source": [
    "### Столкновения\n",
    "Столкновения — важная часть разработки многих игр. Обнаружение столкновений подразумевает необходимость распознать, когда один объект в игре касается другого. Ответ на столкновение — это то, что случится в момент столкновения.\n",
    "\n",
    "В нашей программе есть спрайты-мобы, которые летят сверху вниз по направлению к спрайту, и хотелось бы понимать, когда они сталкиваются с игроком. сначала предположим, что момент столкновения означает завершение игры.\n",
    "\n",
    "#### Ограничивающая рамка\n",
    "У каждого спрайта в Pygame есть атрибут rect, определяющий его координаты и размер. Объект rect в Pygame представлен в формате [x, y, width, height], где x и y представляют собой верхний левый угол прямоугольника. Другое название для этого прямоугольника — ограничивающая рамка, потому что она является границей объекта.\n",
    "\n",
    "Обнаружение столкновений называется AABB (axis-aligned bounding box или «параллельный осям ограничивающий параллелепипед»).\n",
    "Такое название объясняется тем, что прямоугольник выравнивается в соответствии с осями экрана, которые не наклоняются. Обнаружение столкновений AABB столь популярно, потому что работает быстро — компьютер молниеносно сравнивает координаты прямоугольников, что особенно удобно, когда на экране много объектов.\n",
    "\n",
    "Чтобы обнаружить столкновение, необходимо сравнить прямоугольник спрайта с прямоугольниками остальных спрайта-моба. Это можно сделать, пройдя циклом по всем мобам и сравнить каждый из них. \n",
    "\n",
    "Но для пересечения двух прямоугольников, должны пересекаться обе их оси. Вот как это преподнести в коде:\n",
    "\n"
   ]
  },
  {
   "cell_type": "code",
   "execution_count": null,
   "metadata": {},
   "outputs": [],
   "source": [
    "if mob.rect.right > player.rect.left and \\\n",
    "   mob.rect.left < player.rect.right and \\\n",
    "   mob.rect.bottom > player.rect.top and \\\n",
    "   mob.rect.top < player.rect.bottom:\n",
    "       collide = True"
   ]
  },
  {
   "cell_type": "markdown",
   "metadata": {},
   "source": [
    "В Pygame есть встроенная функция spritecollide() для выполнения того же самого.\n",
    "\n",
    "#### Столкновение мобов со спрайтом\n",
    "В раздел «update»  цикла необходимо добавить следующую команду:"
   ]
  },
  {
   "cell_type": "code",
   "execution_count": null,
   "metadata": {},
   "outputs": [],
   "source": [
    "# Обновление\n",
    "all_sprites.update()\n",
    "\n",
    "# Проверка, не ударил ли моб игрока\n",
    "hits = pygame.sprite.spritecollide(player, mobs, False)\n",
    "if hits:\n",
    "    running = False"
   ]
  },
  {
   "cell_type": "markdown",
   "metadata": {},
   "source": [
    "spritecollide() принимает 3 аргумента: название спрайта, который нужно проверять, название группы для сравнения и значения True или False для параметра dokill. Последний параметр позволяет указать, должен ли объект удаляться при столкновении. Если нужно было, например, проверить, подобрал ли игрок монетку, необходимо указать значение True так, чтобы монетка пропала.\n",
    "\n",
    "Результат команды spritecollide() — это список спрайтов, которые столкнулись с игроком (он может быть не один). Присвоим его переменной hits.\n",
    "\n",
    "Если список hits будет непустым, значение инструкции if окажется True. В результате значение running изменится на False, и движение закончится."
   ]
  },
  {
   "cell_type": "code",
   "execution_count": 16,
   "metadata": {},
   "outputs": [],
   "source": [
    "#\n",
    "import pygame\n",
    "import random\n",
    "\n",
    "WIDTH = 480\n",
    "HEIGHT = 600\n",
    "FPS = 60\n",
    "\n",
    "# \n",
    "WHITE = (255, 255, 255)\n",
    "BLACK = (0, 0, 0)\n",
    "RED = (255, 0, 0)\n",
    "GREEN = (0, 255, 0)\n",
    "BLUE = (0, 0, 255)\n",
    "YELLOW = (255, 255, 0)\n",
    "\n",
    "# \n",
    "pygame.init()\n",
    "pygame.mixer.init()\n",
    "screen = pygame.display.set_mode((WIDTH, HEIGHT))\n",
    "pygame.display.set_caption(\"Shmup!\")\n",
    "clock = pygame.time.Clock()\n",
    "\n",
    "class Player(pygame.sprite.Sprite):\n",
    "    def __init__(self):\n",
    "        pygame.sprite.Sprite.__init__(self)\n",
    "        self.image = pygame.Surface((50, 40))\n",
    "        self.image.fill(GREEN)\n",
    "        self.rect = self.image.get_rect()\n",
    "        self.rect.centerx = WIDTH / 2\n",
    "        self.rect.bottom = HEIGHT - 10\n",
    "        self.speedx = 0\n",
    "\n",
    "    def update(self):\n",
    "        self.speedx = 0\n",
    "        keystate = pygame.key.get_pressed()\n",
    "        if keystate[pygame.K_LEFT]:\n",
    "            self.speedx = -8\n",
    "        if keystate[pygame.K_RIGHT]:\n",
    "            self.speedx = 8\n",
    "        self.rect.x += self.speedx\n",
    "        if self.rect.right > WIDTH:\n",
    "            self.rect.right = WIDTH\n",
    "        if self.rect.left < 0:\n",
    "            self.rect.left = 0\n",
    "\n",
    "    def shoot(self):\n",
    "        bullet = Bullet(self.rect.centerx, self.rect.top)\n",
    "        all_sprites.add(bullet)\n",
    "        bullets.add(bullet)\n",
    "\n",
    "\n",
    "class Mob(pygame.sprite.Sprite):\n",
    "    def __init__(self):\n",
    "        pygame.sprite.Sprite.__init__(self)\n",
    "        self.image = pygame.Surface((30, 40))\n",
    "        self.image.fill(RED)\n",
    "        self.rect = self.image.get_rect()\n",
    "        self.rect.x = random.randrange(WIDTH - self.rect.width)\n",
    "        self.rect.y = random.randrange(-100, -40)\n",
    "        self.speedy = random.randrange(1, 8)\n",
    "        self.speedx = random.randrange(-3, 3)\n",
    "\n",
    "    def update(self):\n",
    "        self.rect.x += self.speedx\n",
    "        self.rect.y += self.speedy\n",
    "        if self.rect.top > HEIGHT + 10 or self.rect.left < -25 or self.rect.right > WIDTH + 20:\n",
    "            self.rect.x = random.randrange(WIDTH - self.rect.width)\n",
    "            self.rect.y = random.randrange(-100, -40)\n",
    "            self.speedy = random.randrange(1, 8)\n",
    "\n",
    "class Bullet(pygame.sprite.Sprite):\n",
    "    def __init__(self, x, y):\n",
    "        pygame.sprite.Sprite.__init__(self)\n",
    "        self.image = pygame.Surface((10, 20))\n",
    "        self.image.fill(YELLOW)\n",
    "        self.rect = self.image.get_rect()\n",
    "        self.rect.bottom = y\n",
    "        self.rect.centerx = x\n",
    "        self.speedy = -10\n",
    "\n",
    "    def update(self):\n",
    "        self.rect.y += self.speedy\n",
    "        # \n",
    "        if self.rect.bottom < 0:\n",
    "            self.kill()\n",
    "\n",
    "all_sprites = pygame.sprite.Group()\n",
    "mobs = pygame.sprite.Group()\n",
    "bullets = pygame.sprite.Group()\n",
    "player = Player()\n",
    "all_sprites.add(player)\n",
    "for i in range(8):\n",
    "    m = Mob()\n",
    "    all_sprites.add(m)\n",
    "    mobs.add(m)\n",
    "\n",
    "# \n",
    "running = True\n",
    "while running:\n",
    "    # \n",
    "    clock.tick(FPS)\n",
    "    # \n",
    "    for event in pygame.event.get():\n",
    "        #\n",
    "        if event.type == pygame.QUIT:\n",
    "            running = False\n",
    "        elif event.type == pygame.KEYDOWN:\n",
    "            if event.key == pygame.K_SPACE:\n",
    "                player.shoot()\n",
    "\n",
    "    # \n",
    "    all_sprites.update()\n",
    "\n",
    "    hits = pygame.sprite.groupcollide(mobs, bullets, True, True)\n",
    "    for hit in hits:\n",
    "        m = Mob()\n",
    "        all_sprites.add(m)\n",
    "        mobs.add(m)\n",
    "\n",
    "    # \n",
    "    hits = pygame.sprite.spritecollide(player, mobs, False)\n",
    "    if hits:\n",
    "        running = False\n",
    "\n",
    "    # \n",
    "    screen.fill(BLACK)\n",
    "    all_sprites.draw(screen)\n",
    "    # \n",
    "    pygame.display.flip()\n",
    "\n",
    "pygame.quit()"
   ]
  },
  {
   "cell_type": "markdown",
   "metadata": {},
   "source": [
    "Добавим еще один спрайт — пусть это будут пули. Это будет спрайт, который появляется в момент выстрела над спрайтом игрока и двигается вверх с большой скоростью. Определение спрайта вам знакомо, поэтому вот сразу готовый класс Bullet:"
   ]
  },
  {
   "cell_type": "code",
   "execution_count": null,
   "metadata": {},
   "outputs": [],
   "source": [
    "class Bullet(pygame.sprite.Sprite):\n",
    "    def __init__(self, x, y):\n",
    "        pygame.sprite.Sprite.__init__(self)\n",
    "        self.image = pygame.Surface((10, 20))\n",
    "        self.image.fill(YELLOW)\n",
    "        self.rect = self.image.get_rect()\n",
    "        self.rect.bottom = y\n",
    "        self.rect.centerx = x\n",
    "        self.speedy = -10\n",
    "\n",
    "    def update(self):\n",
    "        self.rect.y += self.speedy\n",
    "        # убить, если он заходит за верхнюю часть экрана\n",
    "        if self.rect.bottom < 0:\n",
    "            self.kill()"
   ]
  },
  {
   "cell_type": "markdown",
   "metadata": {},
   "source": [
    "В метод __init__() спрайта пули нужно передать значения x и y, чтобы указать спрайту, где появляться. Поскольку спрайт игрока может двигаться, то место появления будет соответствовать местоположению игрока. Значение speedy будет отрицательным, чтобы он спрайт двигался наверх.\n",
    "\n",
    "Наконец, нужно проверить оказался ли спрайт за пределами экрана. Если да — его можно удалять.\n",
    "\n",
    "### Событие keypress\n",
    "Чтобы было легко хотя бы вначале, нужно сделать так, чтобы каждый раз при нажатии пробела вылетала пуля. Это нужно добавить к проверке событий:"
   ]
  },
  {
   "cell_type": "code",
   "execution_count": null,
   "metadata": {},
   "outputs": [],
   "source": [
    "for event in pygame.event.get():\n",
    "    # проверка для закрытия окна\n",
    "    if event.type == pygame.QUIT:\n",
    "        running = False\n",
    "    elif event.type == pygame.KEYDOWN:\n",
    "        if event.key == pygame.K_SPACE:\n",
    "            player.shoot()"
   ]
  },
  {
   "cell_type": "markdown",
   "metadata": {},
   "source": [
    "Новый код проверяет событие KEYDOWN, и если таковое наблюдается, проверяет нажата ли кнопка K_SPACE. Если да — запускается метод игрока shoot().\n",
    "\n",
    "#### Появление пули\n",
    "В первую очередь необходимо добавить группу для пуль:\n",
    "\n",
    "    bullets = pygame.sprite.Group()"
   ]
  },
  {
   "cell_type": "code",
   "execution_count": null,
   "metadata": {},
   "outputs": [],
   "source": [
    "def shoot(self):\n",
    "    bullet = Bullet(self.rect.centerx, self.rect.top)\n",
    "    all_sprites.add(bullet)\n",
    "    bullets.add(bullet)"
   ]
  },
  {
   "cell_type": "markdown",
   "metadata": {},
   "source": [
    "Все что делает метод shoot() — создает пулю, используя в качестве места появления верхнюю центральную часть игрока. После этого нужно убедиться, что пуля добавлена в all_sptires (чтобы она отрисовалась и обновилась) и в bullets, которая будет использоваться для столкновений.\n",
    "\n",
    "#### Столкновения пуль\n",
    "Теперь нужно проверить, задела ли пуля спрайта-моба. Отличие в том, что есть несколько пуль (в группе bullets) и несколько мобов (в группе mobs), поэтому нельзя использовать spritecollide() как в прошлый раз, потому что в этой функции сравнивается только один спрайт с группой. Вместо этого нужно использовать groupcollide():"
   ]
  },
  {
   "cell_type": "code",
   "execution_count": null,
   "metadata": {},
   "outputs": [],
   "source": [
    "# Обновление\n",
    "all_sprites.update()\n",
    "\n",
    "# Проверка, не ударил ли моб игрока\n",
    "hits = pygame.sprite.groupcollide(mobs, bullets, True, True)\n",
    "for hit in hits:\n",
    "    m = Mob()\n",
    "    all_sprites.add(m)\n",
    "    mobs.add(m)"
   ]
  },
  {
   "cell_type": "markdown",
   "metadata": {},
   "source": [
    "Функция groupcollide() похожа на spritecollide() за исключением того, что нужно указывать две группы для сравнения, а возвращать функция будет список задетых спрайтов-мобов. Также есть два значения dokill для каждой из групп.\n",
    "\n",
    "Если просто удалять спрайты-мобы, то появится проблема: они закончатся. Поэтому нужно просто проходить циклом по hits и для каждого уничтоженного спрайта-моба создавать один новый.\n"
   ]
  }
 ],
 "metadata": {
  "kernelspec": {
   "display_name": "Python 3",
   "language": "python",
   "name": "python3"
  },
  "language_info": {
   "codemirror_mode": {
    "name": "ipython",
    "version": 3
   },
   "file_extension": ".py",
   "mimetype": "text/x-python",
   "name": "python",
   "nbconvert_exporter": "python",
   "pygments_lexer": "ipython3",
   "version": "3.7.6"
  }
 },
 "nbformat": 4,
 "nbformat_minor": 4
}
