{
 "cells": [
  {
   "cell_type": "markdown",
   "metadata": {},
   "source": [
    "### Добавление объектов\n",
    "\n",
    "Необходимо, чтобы они просто отображались на экране. Можно сделать проект, в котором созданный ранее спрайт будет уклоняться от появляющихся. Их может быть несколько.\n",
    "\n",
    "Учитывая это, нужно дать множеству спрайтов в коде какое-то общее название. Почти идеальным именем для такого рода объектов (которые двигаются) является моб (вы могли слышать это выражение раньше).\n",
    "\n",
    "Начнем с определения свойств спрайта:"
   ]
  },
  {
   "cell_type": "code",
   "execution_count": null,
   "metadata": {},
   "outputs": [],
   "source": [
    "class Mob(pygame.sprite.Sprite):\n",
    "    def __init__(self):\n",
    "        pygame.sprite.Sprite.__init__(self)\n",
    "        self.image = pygame.Surface((30, 40))\n",
    "        self.image.fill(RED)\n",
    "        self.rect = self.image.get_rect()\n",
    "        self.rect.x = random.randrange(WIDTH - self.rect.width)\n",
    "        self.rect.y = random.randrange(-100, -40)\n",
    "        self.speedy = random.randrange(1, 8)"
   ]
  },
  {
   "cell_type": "markdown",
   "metadata": {},
   "source": [
    "Важно определить хорошую стартовую точку для появления мобов. Не хочется, чтобы они возникали из ниоткуда, поэтому нужно просто выбрать значение, которое бы размещало объект сверху за пределами экрана (y < 0), а значение x должно быть в пределах двух сторон.\n",
    "\n",
    "Дальше для функции обновления нужно задать движения спрайта с определенной скоростью, но что с ним будет, когда он доберется до нижней части экрана? Его можно удалить и создать новый или же можно перенести этот же спрайт в случайное место в верхней части экрана."
   ]
  },
  {
   "cell_type": "code",
   "execution_count": null,
   "metadata": {},
   "outputs": [],
   "source": [
    "def update(self):\n",
    "        self.rect.y += self.speedy\n",
    "        if self.rect.top > HEIGHT + 10:\n",
    "            self.rect.x = random.randrange(WIDTH - self.rect.width)\n",
    "            self.rect.y = random.randrange(-100, -40)\n",
    "            self.speedy = random.randrange(1, 8)"
   ]
  },
  {
   "cell_type": "markdown",
   "metadata": {},
   "source": [
    "#### Появление спрайтов\n",
    "Спрайтов пусть будет много, поэтому нужно создать группу mobs для них всех. Это также упростит работу с ними в дальнейшем. После этого нужно вызвать определенное количество мобов и добавить их в группы."
   ]
  },
  {
   "cell_type": "code",
   "execution_count": null,
   "metadata": {},
   "outputs": [],
   "source": [
    "player = Player()\n",
    "all_sprites.add(player)\n",
    "for i in range(8):\n",
    "    m = Mob()\n",
    "    all_sprites.add(m)\n",
    "    mobs.add(m)"
   ]
  },
  {
   "cell_type": "markdown",
   "metadata": {},
   "source": [
    "Должен получиться поток спрайтов-мобов, которые опускаются вниз по экрану. Но спрайты-мобы, двигающиеся ровно вниз, смотрятся скучно. Нужно добавить движение по координате x:"
   ]
  },
  {
   "cell_type": "code",
   "execution_count": null,
   "metadata": {},
   "outputs": [],
   "source": [
    "class Mob(pygame.sprite.Sprite):\n",
    "    def __init__(self):\n",
    "        pygame.sprite.Sprite.__init__(self)\n",
    "        self.image = pygame.Surface((30, 40))\n",
    "        self.image.fill(RED)\n",
    "        self.rect = self.image.get_rect()\n",
    "        self.rect.x = random.randrange(WIDTH - self.rect.width)\n",
    "        self.rect.y = random.randrange(-100, -40)\n",
    "        self.speedy = random.randrange(1, 8)\n",
    "        self.speedx = random.randrange(-3, 3)\n",
    "\n",
    "    def update(self):\n",
    "        self.rect.x += self.speedx\n",
    "        self.rect.y += self.speedy\n",
    "        if self.rect.top > HEIGHT + 10 or self.rect.left < -25 or self.rect.right > WIDTH + 20:\n",
    "            self.rect.x = random.randrange(WIDTH - self.rect.width)\n",
    "            self.rect.y = random.randrange(-100, -40)\n",
    "            self.speedy = random.randrange(1, 8)"
   ]
  },
  {
   "cell_type": "markdown",
   "metadata": {},
   "source": [
    "Также нужно изменить инструкцию if, которая создает новые спрайты-мобы в тот момент, когда те пропадают с экрана. Моб, который двигается по диагонали, пропадет с экрана задолго до того как доберется до нижней части, поэтому нужно перезагрузить его быстрее.\n",
    "\n",
    "Объединив программный код из файла \"Спрайты и управление\" с добавлением новых спрайтов получим программный код:"
   ]
  },
  {
   "cell_type": "code",
   "execution_count": 1,
   "metadata": {},
   "outputs": [
    {
     "name": "stdout",
     "output_type": "stream",
     "text": [
      "pygame 1.9.6\n",
      "Hello from the pygame community. https://www.pygame.org/contribute.html\n"
     ]
    },
    {
     "name": "stderr",
     "output_type": "stream",
     "text": [
      "<ipython-input-1-1ddbd69a2f6b>:30: DeprecationWarning: an integer is required (got type float).  Implicit conversion to integers using __int__ is deprecated, and may be removed in a future version of Python.\n",
      "  self.rect.centerx = WIDTH / 2\n"
     ]
    }
   ],
   "source": [
    "#\n",
    "import pygame\n",
    "import random\n",
    "\n",
    "WIDTH = 480\n",
    "HEIGHT = 600\n",
    "FPS = 60\n",
    "#\n",
    "\n",
    "WHITE = (255, 255, 255)\n",
    "BLACK = (0, 0, 0)\n",
    "RED = (255, 0, 0)\n",
    "GREEN = (0, 255, 0)\n",
    "BLUE = (0, 0, 255)\n",
    "YELLOW = (255, 255, 0)\n",
    "\n",
    "#\n",
    "pygame.init()\n",
    "pygame.mixer.init()\n",
    "screen = pygame.display.set_mode((WIDTH, HEIGHT))\n",
    "pygame.display.set_caption(\"Добавление спрайтов и их движение\")\n",
    "clock = pygame.time.Clock()\n",
    "#\n",
    "class Player(pygame.sprite.Sprite):\n",
    "    def __init__(self):\n",
    "        pygame.sprite.Sprite.__init__(self)\n",
    "        self.image = pygame.Surface((50, 40))\n",
    "        self.image.fill(GREEN)\n",
    "        self.rect = self.image.get_rect()\n",
    "        self.rect.centerx = WIDTH / 2\n",
    "        self.rect.bottom = HEIGHT - 10\n",
    "        self.speedx = 0\n",
    "\n",
    "    def update(self):\n",
    "        self.speedx = 0\n",
    "        keystate = pygame.key.get_pressed()\n",
    "        if keystate[pygame.K_LEFT]:\n",
    "            self.speedx = -8\n",
    "        if keystate[pygame.K_RIGHT]:\n",
    "            self.speedx = 8\n",
    "        self.rect.x += self.speedx\n",
    "        if self.rect.right > WIDTH:\n",
    "            self.rect.right = WIDTH\n",
    "        if self.rect.left < 0:\n",
    "            self.rect.left = 0\n",
    "\n",
    "class Mob(pygame.sprite.Sprite):\n",
    "    def __init__(self):\n",
    "        pygame.sprite.Sprite.__init__(self)\n",
    "        self.image = pygame.Surface((30, 40))\n",
    "        self.image.fill(RED)\n",
    "        self.rect = self.image.get_rect()\n",
    "        self.rect.x = random.randrange(WIDTH - self.rect.width)\n",
    "        self.rect.y = random.randrange(-100, -40)\n",
    "        self.speedy = random.randrange(1, 8)\n",
    "        self.speedx = random.randrange(-3, 3)\n",
    "\n",
    "    def update(self):\n",
    "        self.rect.x += self.speedx\n",
    "        self.rect.y += self.speedy\n",
    "        if self.rect.top > HEIGHT + 10 or self.rect.left < -25 or self.rect.right > WIDTH + 20:\n",
    "            self.rect.x = random.randrange(WIDTH - self.rect.width)\n",
    "            self.rect.y = random.randrange(-100, -40)\n",
    "            self.speedy = random.randrange(1, 8)\n",
    "\n",
    "all_sprites = pygame.sprite.Group()\n",
    "mobs = pygame.sprite.Group()\n",
    "player = Player()\n",
    "all_sprites.add(player)\n",
    "for i in range(8):\n",
    "    m = Mob()\n",
    "    all_sprites.add(m)\n",
    "    mobs.add(m)\n",
    "\n",
    "# \n",
    "running = True\n",
    "while running:\n",
    "    # \n",
    "    clock.tick(FPS)\n",
    "    # \n",
    "    for event in pygame.event.get():\n",
    "        # \n",
    "        if event.type == pygame.QUIT:\n",
    "            running = False\n",
    "\n",
    "    # \n",
    "    all_sprites.update()\n",
    "\n",
    "    #\n",
    "    screen.fill(BLACK)\n",
    "    all_sprites.draw(screen)\n",
    " \n",
    "\n",
    "    pygame.display.flip()\n",
    "\n",
    "pygame.quit()"
   ]
  },
  {
   "cell_type": "code",
   "execution_count": null,
   "metadata": {},
   "outputs": [],
   "source": []
  },
  {
   "cell_type": "code",
   "execution_count": null,
   "metadata": {},
   "outputs": [],
   "source": []
  }
 ],
 "metadata": {
  "kernelspec": {
   "display_name": "Python 3",
   "language": "python",
   "name": "python3"
  },
  "language_info": {
   "codemirror_mode": {
    "name": "ipython",
    "version": 3
   },
   "file_extension": ".py",
   "mimetype": "text/x-python",
   "name": "python",
   "nbconvert_exporter": "python",
   "pygments_lexer": "ipython3",
   "version": "3.8.3"
  }
 },
 "nbformat": 4,
 "nbformat_minor": 4
}
