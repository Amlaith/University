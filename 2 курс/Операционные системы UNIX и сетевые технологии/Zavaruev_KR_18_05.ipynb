{
 "cells": [
  {
   "cell_type": "markdown",
   "metadata": {},
   "source": [
    "### Иван Заваруев \n",
    "### ПИ19-1в\n",
    "\n",
    "#### Контрольная работа \n",
    "#### 18.05.2021\n",
    "\n",
    "##### Вариант 17\n",
    "\n",
    "*Напишите программу, которая создает нить. Родительская и вновь созданная нити должны распечатать десять строк текста. Модифицируйте программу так, чтобы вывод родительской и дочерней нитей был синхронизован: сначала родительская нить выводила первую строку, затем дочерняя, затем родительская вторую строку и т.д.*"
   ]
  },
  {
   "cell_type": "code",
   "execution_count": 8,
   "metadata": {},
   "outputs": [
    {
     "name": "stdout",
     "output_type": "stream",
     "text": [
      "Side thread says 0\n",
      "Main thread says 0\n",
      "Side thread says 1\n",
      "Main thread says 1\n",
      "Side thread says 2\n",
      "Main thread says 2\n",
      "Side thread says 3\n",
      "Main thread says 3\n",
      "Side thread says 4\n",
      "Main thread says 4\n",
      "Side thread says 5\n",
      "Main thread says 5\n",
      "Side thread says 6\n",
      "Main thread says 6\n",
      "Side thread says 7\n",
      "Main thread says 7\n",
      "Side thread says 8\n",
      "Main thread says 8\n",
      "Side thread says 9\n",
      "Main thread says 9\n"
     ]
    }
   ],
   "source": [
    "from _thread import *\n",
    "import time\n",
    "\n",
    "def side_thread():\n",
    "    for i in range(10):\n",
    "        print(f'Side thread says {i}')\n",
    "        time.sleep(1)\n",
    "\n",
    "\n",
    "start_new_thread(side_thread, ())\n",
    "time.sleep(0.5)\n",
    "\n",
    "for i in range(10):\n",
    "    print(f'Main thread says {i}')\n",
    "    time.sleep(1)\n",
    "\n"
   ]
  }
 ],
 "metadata": {
  "kernelspec": {
   "display_name": "Python 3",
   "language": "python",
   "name": "python3"
  },
  "language_info": {
   "codemirror_mode": {
    "name": "ipython",
    "version": 3
   },
   "file_extension": ".py",
   "mimetype": "text/x-python",
   "name": "python",
   "nbconvert_exporter": "python",
   "pygments_lexer": "ipython3",
   "version": "3.8.3"
  }
 },
 "nbformat": 4,
 "nbformat_minor": 4
}
