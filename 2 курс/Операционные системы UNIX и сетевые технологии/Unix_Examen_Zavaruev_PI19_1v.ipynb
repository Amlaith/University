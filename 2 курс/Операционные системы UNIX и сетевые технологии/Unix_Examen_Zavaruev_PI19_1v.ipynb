{
 "cells": [
  {
   "cell_type": "markdown",
   "metadata": {},
   "source": [
    "## ОС Unix и сетевые технологии\n",
    "## Экзамен\n",
    "### Иван Заваруев, ПИ19-1в\n",
    "### Вариант 21"
   ]
  },
  {
   "cell_type": "markdown",
   "metadata": {},
   "source": [
    "#### Условие\n",
    "Дана функция calculate(x, y). Напишите программу, которая создает пул из процессов и распределяет в этом пуле вычисление функции на промежутке x от 0 до 1 с шагом 0, 1, y - от 2 до 8 с шагом 1. Количество процессов принимать как параметр при запуске программы."
   ]
  },
  {
   "cell_type": "code",
   "execution_count": 3,
   "metadata": {},
   "outputs": [
    {
     "name": "stdout",
     "output_type": "stream",
     "text": [
      "Введите количество потоков: 10\n",
      "Результат сложения 0.2 и 7 : 7.2 Результат сложения 0.4 и 5 : 5.4 Результат сложения 0.30000000000000004 и 8 : 8.3 Результат сложения 0.30000000000000004 и 6 : 6.3 Результат сложения 0.1 и 7 : 7.1 \n",
      "Результат сложения 0.5 и 6 : 6.5 Результат сложения 0.6000000000000001 и 7 : 7.6 Результат сложения 0.0 и 5 : 5.0 Результат сложения 0.0 и 5 : 5.0 \n",
      "\n",
      "Результат сложения 0.2 и 2 : 2.2 \n",
      "\n",
      "\n",
      "\n",
      "\n",
      "\n",
      "\n"
     ]
    }
   ],
   "source": [
    "from _thread import *\n",
    "from random import choice\n",
    "\n",
    "# Списки возможных значений аргументов\n",
    "X_POOL = [i * 0.1 for i in range(11)]\n",
    "Y_POOL = [i for i in range(2, 9)]\n",
    "\n",
    "def calculate(x, y):\n",
    "    # Пусть \"функция\" будет сложением двух чисел\n",
    "    print(f'Результат сложения {x} и {y} : {x + y} ')\n",
    "\n",
    "\n",
    "for i in range(int(input(\"Введите количество потоков: \"))):\n",
    "    start_new_thread(calculate, (choice(X_POOL), choice(Y_POOL)))"
   ]
  }
 ],
 "metadata": {
  "kernelspec": {
   "display_name": "Python 3",
   "language": "python",
   "name": "python3"
  },
  "language_info": {
   "codemirror_mode": {
    "name": "ipython",
    "version": 3
   },
   "file_extension": ".py",
   "mimetype": "text/x-python",
   "name": "python",
   "nbconvert_exporter": "python",
   "pygments_lexer": "ipython3",
   "version": "3.8.3"
  }
 },
 "nbformat": 4,
 "nbformat_minor": 4
}
