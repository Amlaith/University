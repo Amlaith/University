{
 "cells": [
  {
   "cell_type": "markdown",
   "metadata": {},
   "source": [
    "## Списки и массивы\n",
    "\n",
    "## Задания для самостоятельной работы\n",
    "### Заваруев И.\n",
    "### ПИ19-1в\n",
    "Создать матрицу из n строк и m столбцов (n=4, m=3) явно указав ее элементы в виде списка списков. Используя numpy, создать двумерный массив для хранения этой же матрицы"
   ]
  },
  {
   "cell_type": "code",
   "execution_count": 15,
   "metadata": {},
   "outputs": [
    {
     "name": "stdout",
     "output_type": "stream",
     "text": [
      "Список списков:\n",
      "[2, 4, 6, 3]\n",
      "[5, 6, 1, 3]\n",
      "[8, 2, 6, 3]\n",
      "NymPy массив:\n",
      "[[2 4 6 3]\n",
      " [5 6 1 3]\n",
      " [8 2 6 3]]\n"
     ]
    }
   ],
   "source": [
    "# Размерность матриц \n",
    "n, m = 4, 3\n",
    "\n",
    "#--------------------------------------\n",
    "# Создание списка списков\n",
    "from random import randint\n",
    "\n",
    "arr = [[randint(0, 10) for _ in range(n)] for _ in range(m)]\n",
    "\n",
    "print('Список списков:')\n",
    "for line in arr:\n",
    "    print(line)\n",
    "    \n",
    "#--------------------------------------\n",
    "# Создание NumPy массива\n",
    "import numpy as np\n",
    "\n",
    "np_arr = np.array(arr)\n",
    "\n",
    "print('NymPy массив:')\n",
    "print(np_arr)"
   ]
  },
  {
   "cell_type": "markdown",
   "metadata": {},
   "source": [
    "Вычислить количество строк, содержащих нули\n"
   ]
  },
  {
   "cell_type": "code",
   "execution_count": 17,
   "metadata": {
    "scrolled": true
   },
   "outputs": [
    {
     "name": "stdout",
     "output_type": "stream",
     "text": [
      "0\n",
      "1.45 µs ± 21.5 ns per loop (mean ± std. dev. of 7 runs, 1000000 loops each)\n"
     ]
    }
   ],
   "source": [
    "def nuls(arr):\n",
    "    return sum([0 in line for line in arr])\n",
    "print(nuls(arr))\n",
    "%timeit nuls(arr)"
   ]
  },
  {
   "cell_type": "code",
   "execution_count": 16,
   "metadata": {},
   "outputs": [
    {
     "name": "stdout",
     "output_type": "stream",
     "text": [
      "0\n",
      "14.3 µs ± 98.8 ns per loop (mean ± std. dev. of 7 runs, 100000 loops each)\n"
     ]
    }
   ],
   "source": [
    "def nuls_np(arr):\n",
    "    return np.count_nonzero([line==0 for line in arr])\n",
    "print(nuls_np(np_arr))\n",
    "%timeit nuls_np(np_arr)"
   ]
  },
  {
   "cell_type": "markdown",
   "metadata": {},
   "source": [
    "Проверить, есть ли в исходной матрице одинаковые строки"
   ]
  },
  {
   "cell_type": "code",
   "execution_count": 18,
   "metadata": {},
   "outputs": [
    {
     "name": "stdout",
     "output_type": "stream",
     "text": [
      "0\n",
      "3.57 µs ± 26.1 ns per loop (mean ± std. dev. of 7 runs, 100000 loops each)\n"
     ]
    }
   ],
   "source": [
    "def equals(arr):\n",
    "    res = 0\n",
    "    for i in range(len(arr)):\n",
    "        for j in range(i+1, len(arr)):\n",
    "            if arr[i] == arr[j]:\n",
    "                res += 1\n",
    "    return res        \n",
    "print(equals(arr))\n",
    "%timeit equals(arr)"
   ]
  },
  {
   "cell_type": "code",
   "execution_count": 19,
   "metadata": {},
   "outputs": [
    {
     "name": "stdout",
     "output_type": "stream",
     "text": [
      "0\n",
      "28.7 µs ± 447 ns per loop (mean ± std. dev. of 7 runs, 10000 loops each)\n"
     ]
    }
   ],
   "source": [
    "def equals_np(arr):\n",
    "    res = 0\n",
    "    for i in range(len(arr)):\n",
    "        for j in range(i+1, len(arr)):\n",
    "            if np.array_equal(arr[i],arr[j]):\n",
    "                res += 1\n",
    "    return res        \n",
    "print(equals_np(np_arr))\n",
    "%timeit equals_np(np_arr)"
   ]
  },
  {
   "cell_type": "markdown",
   "metadata": {},
   "source": [
    "Найти произведение 2 матриц. Для этого создайте еще одну матрицу подходящего размера."
   ]
  },
  {
   "cell_type": "code",
   "execution_count": 20,
   "metadata": {
    "scrolled": true
   },
   "outputs": [
    {
     "name": "stdout",
     "output_type": "stream",
     "text": [
      "Список списков:\n",
      "[9, 0, 3]\n",
      "[10, 8, 2]\n",
      "[9, 4, 8]\n",
      "[7, 5, 0]\n",
      "NymPy массив:\n",
      "[[ 9  0  3]\n",
      " [10  8  2]\n",
      " [ 9  4  8]\n",
      " [ 7  5  0]]\n"
     ]
    }
   ],
   "source": [
    "# Новые матрицы для умножения\n",
    "arr1 = [[randint(0, 10) for _ in range(m)] for _ in range(n)]\n",
    "\n",
    "print('Список списков:')\n",
    "for line in arr1:\n",
    "    print(line)\n",
    "    \n",
    "#--------------------------------------\n",
    "\n",
    "np_arr1 = np.array(arr1)\n",
    "\n",
    "print('NymPy массив:')\n",
    "print(np_arr1)"
   ]
  },
  {
   "cell_type": "code",
   "execution_count": 21,
   "metadata": {},
   "outputs": [
    {
     "name": "stdout",
     "output_type": "stream",
     "text": [
      "[[133, 71, 62], [135, 67, 35], [167, 55, 76]]\n",
      "23.1 µs ± 1.29 µs per loop (mean ± std. dev. of 7 runs, 10000 loops each)\n"
     ]
    }
   ],
   "source": [
    "# Умножение списков списков\n",
    "def get_el(a, b, i, j, y):\n",
    "#     print(f'i: {i}, j: {j}')\n",
    "    res = 0\n",
    "    for k in range(y):\n",
    "#         print(f'a[{i}][{k}] * b[{k}][{j}] ')\n",
    "        res += a[i][k] * b[k][j]\n",
    "    return res\n",
    "\n",
    "def mul(a, b):\n",
    "    x, y = len(a), len(b)\n",
    "#     print(x, y)\n",
    "    return [[get_el(a,b,i,j,y)  for j in range(x)] for i in range(x)]\n",
    "    \n",
    "    \n",
    "print(mul(arr,arr1))\n",
    "%timeit mul(arr, arr1)"
   ]
  },
  {
   "cell_type": "code",
   "execution_count": 22,
   "metadata": {},
   "outputs": [
    {
     "name": "stdout",
     "output_type": "stream",
     "text": [
      "[[133  71  62]\n",
      " [135  67  35]\n",
      " [167  55  76]]\n",
      "2.88 µs ± 1.01 µs per loop (mean ± std. dev. of 7 runs, 100000 loops each)\n"
     ]
    }
   ],
   "source": [
    "# Умножение NumPy массивов\n",
    "def mul_np(arr1, arr2):\n",
    "    return arr1.dot(arr2)\n",
    "print(mul_np(np_arr, np_arr1))\n",
    "%timeit mul_np(np_arr, np_arr1)"
   ]
  }
 ],
 "metadata": {
  "kernelspec": {
   "display_name": "Python 3",
   "language": "python",
   "name": "python3"
  },
  "language_info": {
   "codemirror_mode": {
    "name": "ipython",
    "version": 3
   },
   "file_extension": ".py",
   "mimetype": "text/x-python",
   "name": "python",
   "nbconvert_exporter": "python",
   "pygments_lexer": "ipython3",
   "version": "3.7.4"
  }
 },
 "nbformat": 4,
 "nbformat_minor": 2
}
