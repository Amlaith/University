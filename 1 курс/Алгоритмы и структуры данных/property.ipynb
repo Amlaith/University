{
 "cells": [
  {
   "cell_type": "code",
   "execution_count": 1,
   "metadata": {},
   "outputs": [
    {
     "name": "stdout",
     "output_type": "stream",
     "text": [
      "[10, -1, -6, -6, 2, 5, -7, -2, -1, -1]\n",
      "[-1, -6, -6, -7, -2, -1, -1]\n",
      "[10, 2, 5]\n"
     ]
    }
   ],
   "source": [
    "from random import randint\n",
    "lst = [randint(-10, 10) for _ in range(10)]\n",
    "pos = []\n",
    "print(lst)\n",
    "i = 0\n",
    "while i < len(lst):\n",
    "    num = lst[i]\n",
    "    if num > 0:\n",
    "        pos.append(num)\n",
    "        lst.remove(num)\n",
    "    else: i += 1\n",
    "    \n",
    "print(lst)\n",
    "print(pos)"
   ]
  },
  {
   "cell_type": "code",
   "execution_count": 14,
   "metadata": {},
   "outputs": [
    {
     "name": "stdout",
     "output_type": "stream",
     "text": [
      "set unit\n",
      "500000.0\n"
     ]
    }
   ],
   "source": [
    "class Length():\n",
    "    units ={\n",
    "        \"см\": 1, \n",
    "        \"м\": 100,\n",
    "        \"км\": 100000,\n",
    "    }\n",
    "    \n",
    "    def __init__(self, value, unit):\n",
    "        self.__value = value\n",
    "        self.__unit = unit\n",
    "        \n",
    "    @property\n",
    "    def value(self):\n",
    "        return self.__value\n",
    "    @value.setter\n",
    "    def value(self, x):\n",
    "        print('set value')\n",
    "        self.__value = x\n",
    "        \n",
    "    @property\n",
    "    def unit(self):\n",
    "        return self.__unit\n",
    "    @unit.setter\n",
    "    def unit(self, x):\n",
    "        print('set unit')\n",
    "        self.__value = self.__value * (Length.units[self.__unit] / Length.units[x])\n",
    "        self.__unit = x\n",
    "            \n",
    "        \n",
    "        \n",
    "    \n",
    "    \n",
    "    \n",
    "a = Length(5, 'км')\n",
    "#a.value = 20\n",
    "a.unit = 'см'\n",
    "print(a.value)"
   ]
  },
  {
   "cell_type": "code",
   "execution_count": null,
   "metadata": {},
   "outputs": [],
   "source": [
    "def a():\n",
    "    var = 1"
   ]
  }
 ],
 "metadata": {
  "kernelspec": {
   "display_name": "Python 3",
   "language": "python",
   "name": "python3"
  },
  "language_info": {
   "codemirror_mode": {
    "name": "ipython",
    "version": 3
   },
   "file_extension": ".py",
   "mimetype": "text/x-python",
   "name": "python",
   "nbconvert_exporter": "python",
   "pygments_lexer": "ipython3",
   "version": "3.8.3"
  }
 },
 "nbformat": 4,
 "nbformat_minor": 2
}
