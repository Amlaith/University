{
 "cells": [
  {
   "cell_type": "code",
   "execution_count": 54,
   "metadata": {},
   "outputs": [
    {
     "name": "stdout",
     "output_type": "stream",
     "text": [
      "Каталог \"Товары\", 6 столбцов, 68 элементов.\n",
      "Товары\n",
      "Товары 2020\n",
      "['17', 'Автобус (2288 F-1)', 'Машинки', '41.00', '29', '']\n",
      "['63', 'Баранчик Шон 002 (25452-4)', 'Мягкие игрушки', '122.00', '3', '']\n",
      "['64', 'Бассеин 57470 INTEX', 'Главная/Бассейны', '539.00', '3', 'Данный товар отправляем со склада с Одессы!']\n",
      "Каталог \"Товары 2020\", 6 столбцов, 69 элементов.\n",
      "['ID 72 (Бассейн Божья коровка (52181))', 'ID 154 (Бытовая техника Утюг (08010))', 'ID 169 (Велосипед детский двухколёсный 16 Спанч Боб (SB164))', 'ID 250 (Весы маркет ТехноК (2193))', 'ID 299 (Детская посудка Ромашка (19 элементов) 39146)', 'ID 357 (Домик-сортер (Д198у))', 'ID 367 (Железная дорога Wader Kid Cars 3,1м (51701))', 'ID 487 (Каталка толокар Автошка На украинском языке (0142/12 UA))', 'ID 513 (Каталка толокар Ретро белая (900-1))', 'ID 538 (Качалка лошадка Орион (146))', 'ID 578 (Коляска для кукол Melogo (9333/014/9119))', 'ID 600 (Конструктор Домик для принцесс 175 деталей (013888/08))', 'ID 630 (Конструктор Ausini Страна чудес (24701))', 'ID 960 (Бассейн Синий Кит)']\n"
     ]
    }
   ],
   "source": [
    "class Catalog:\n",
    "    def __init__(self, name, items):\n",
    "        self._name = name\n",
    "        self.__data = [item.split(';') if type(item) == str else item\n",
    "                       for item in items]\n",
    "        self.cur = 1\n",
    "    \n",
    "    @property\n",
    "    def name(self):\n",
    "        return self._name\n",
    "    \n",
    "    \n",
    "    @name.setter\n",
    "    def name(self, value):\n",
    "        self._name = value\n",
    "           \n",
    "        \n",
    "    def __str__(self):\n",
    "        return f'Каталог \"{self._name}\", {len(self.__data[0])} столбцов, {len(self.__data) - 1} элементов.'\n",
    "        \n",
    "        \n",
    "    def __add__(self, item):\n",
    "        self.__data.append(item.split(';'))\n",
    "        return Catalog(self._name, self.__data)\n",
    "    \n",
    "    \n",
    "    def __iter__(self):\n",
    "        return self\n",
    "    \n",
    "    \n",
    "    def __next__(self):\n",
    "        current_item = self.__data[self.cur]\n",
    "        new = self.cur + 1\n",
    "        if len(self.__data) > new:\n",
    "            self.cur = new\n",
    "        else:\n",
    "            raise StopIteration\n",
    "        return current_item\n",
    "    \n",
    "    \n",
    "    def write_cat(self, filename):\n",
    "        with open(filename, 'w', encoding='utf-8',) as f:\n",
    "            f.write('-'*212 + '\\n')\n",
    "            f.write('|{:^4}|{:^75}|{:^30}|{:^8}|{:^8}|{:^80}|\\n'.format(*self.__data[0]))\n",
    "            f.write('-'*212 + '\\n')\n",
    "            for line in self.__data[1:]:\n",
    "                f.write('|{:^4}|{:^75}|{:^30}|{:^8}|{:^8}|{:^80}|\\n'.format(*line))\n",
    "            f.write('-'*212 + '\\n')\n",
    "    \n",
    "    \n",
    "    def only_last_left(self):\n",
    "        return [f'ID {item[0]} ({item[1]})' for item in filter(lambda x: x[4] == '1', self.__data)]    \n",
    "    \n",
    "####################################################################\n",
    "\n",
    "with open('Заваруев.txt', encoding=\"utf-8\") as f:\n",
    "    lines = f.read().splitlines()\n",
    "    cat1 = Catalog('Товары', lines)\n",
    "\n",
    "print(cat1) # Каталог \"Товары\", 6 столбцов, 68 элементов.\n",
    "print(cat1.name) # 'Товары'\n",
    "cat1.name = 'Товары 2020'\n",
    "print(cat1.name) # 'Товары 2020'\n",
    "print(next(cat1)) # ['17', 'Автобус (2288 F-1)', 'Машинки', '41.00', '29', '']\n",
    "print(next(cat1)) # ['63', 'Баранчик Шон 002 (25452-4)', 'Мягкие игрушки', '122.00', '3', '']\n",
    "print(next(cat1)) # ['64', 'Бассеин 57470 INTEX', 'Главная/Бассейны', '539.00', '3', 'Данный товар отправляем со склада с Одессы!']\n",
    "cat1 += '960;Бассейн Синий Кит;Бассейны;1200.00;1;Черный с синим'\n",
    "print(cat1) # Каталог \"Товары\", 6 столбцов, 69 элементов.\n",
    "cat1.write_cat('cat1.txt') # Каталог записывается в файл cat1.txt\n",
    "print(cat1.only_last_left()) # Выводится список позиций, у которых остался только один экземпляр"
   ]
  }
 ],
 "metadata": {
  "kernelspec": {
   "display_name": "Python 3",
   "language": "python",
   "name": "python3"
  },
  "language_info": {
   "codemirror_mode": {
    "name": "ipython",
    "version": 3
   },
   "file_extension": ".py",
   "mimetype": "text/x-python",
   "name": "python",
   "nbconvert_exporter": "python",
   "pygments_lexer": "ipython3",
   "version": "3.7.4"
  }
 },
 "nbformat": 4,
 "nbformat_minor": 2
}
