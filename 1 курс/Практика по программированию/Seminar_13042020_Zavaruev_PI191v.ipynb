{
 "cells": [
  {
   "cell_type": "markdown",
   "metadata": {},
   "source": [
    "### Заваруев И., ПИ19-1в\n",
    "### Задания для самостоятельной работы 13.04"
   ]
  },
  {
   "cell_type": "code",
   "execution_count": 16,
   "metadata": {},
   "outputs": [
    {
     "data": {
      "text/plain": [
       "[1, 5, 25, 125, 625, 3125, 15625, 78125, 390625, 1953125, 9765625]"
      ]
     },
     "execution_count": 16,
     "metadata": {},
     "output_type": "execute_result"
    }
   ],
   "source": [
    "#1. При помощи механизма map/filter/reduce возвести число 5 в степени от 0 до 10. Результатом должен быть список.\n",
    "\n",
    "list(\n",
    "    map(\n",
    "        lambda x: 5 ** x,\n",
    "        range(11)\n",
    "    )\n",
    ")"
   ]
  },
  {
   "cell_type": "code",
   "execution_count": 15,
   "metadata": {},
   "outputs": [
    {
     "data": {
      "text/plain": [
       "' 1 5 25 125 625 3125 15625 78125 390625 1953125 9765625'"
      ]
     },
     "execution_count": 15,
     "metadata": {},
     "output_type": "execute_result"
    }
   ],
   "source": [
    "#2. При помощи механизма map/filter/reduce превратить список целых чисел в строку, содержащую строковое представление этих чисел, разделенное пробелами.\n",
    "\n",
    "from functools import reduce\n",
    "\n",
    "\n",
    "num_list = [1, 5, 25, 125, 625, 3125, 15625, 78125, 390625, 1953125, 9765625]\n",
    "reduce(\n",
    "    lambda x, y: '{} {}'.format(x, str(y)),\n",
    "    num_list,\n",
    "    '',\n",
    ")"
   ]
  },
  {
   "cell_type": "code",
   "execution_count": 38,
   "metadata": {},
   "outputs": [
    {
     "data": {
      "text/plain": [
       "225589"
      ]
     },
     "execution_count": 38,
     "metadata": {},
     "output_type": "execute_result"
    }
   ],
   "source": [
    "#3. При помощи механизма map/filter/reduce возвести в квадрат числа от 1 до 100, и рассчитать их сумму, не включая в сумму числа, кратные 9.\n",
    "\n",
    "reduce(\n",
    "    lambda x, y: x + y,\n",
    "    filter(\n",
    "        lambda x: x % 9 != 0,\n",
    "        map(\n",
    "            lambda x: x * x,\n",
    "            range(1, 101)\n",
    "        )\n",
    "    )\n",
    ")"
   ]
  },
  {
   "cell_type": "code",
   "execution_count": 18,
   "metadata": {},
   "outputs": [
    {
     "data": {
      "text/plain": [
       "[2, 3, 1, 0]"
      ]
     },
     "execution_count": 18,
     "metadata": {},
     "output_type": "execute_result"
    }
   ],
   "source": [
    "#4. При помощи механизма map/filter/reduce из списка списков извлечь элементы, содержащиеся во вложенных списках по индексу 1.\n",
    "#Пример: [[1, 2, 3], [2, 3, 4], [0, 1 , 1 , 1], [0, 0]] -> [2, 3, 1, 0]\n",
    "\n",
    "list(\n",
    "    map(\n",
    "        lambda x: x[1],\n",
    "        [[1, 2, 3], [2, 3, 4], [0, 1 , 1 , 1], [0, 0]]\n",
    "    )\n",
    ")"
   ]
  },
  {
   "cell_type": "code",
   "execution_count": 32,
   "metadata": {},
   "outputs": [
    {
     "data": {
      "text/plain": [
       "[1, 2, 3, 4, 5, 6, 7, 6, 1]"
      ]
     },
     "execution_count": 32,
     "metadata": {},
     "output_type": "execute_result"
    }
   ],
   "source": [
    "#5. При помощи механизма map/filter/reduce из несколько одинаковых подряд идущих элементов оставить только один.\n",
    "#[1, 2, 3, 4, 4, 4, 5, 6, 6, 7, 6, 1, 1] -> [1, 2, 3, 4, 5, 6, 7, 6, 1]\n",
    "\n",
    "list_example = [1, 2, 3, 4, 4, 4, 5, 6, 6, 7, 6, 1, 1]\n",
    "\n",
    "\n",
    "reduce(\n",
    "    lambda acc, item: acc + [item] if (acc[-1] != item) else acc,\n",
    "    list_example,\n",
    "    [list_example[0]]\n",
    ")"
   ]
  },
  {
   "cell_type": "code",
   "execution_count": 34,
   "metadata": {},
   "outputs": [
    {
     "data": {
      "text/plain": [
       "12"
      ]
     },
     "execution_count": 34,
     "metadata": {},
     "output_type": "execute_result"
    }
   ],
   "source": [
    "#6. При помощи механизма map/filter/reduce вычислите скалярное произведение двух векторов, заданных списками.\n",
    "\n",
    "v1 = [1, 1, 1]\n",
    "v2 = [2, 4, 6]\n",
    "\n",
    "\n",
    "reduce(\n",
    "    lambda x, y: x + y,\n",
    "    map(\n",
    "        lambda x, y: x * y,\n",
    "        v1,\n",
    "        v2,\n",
    "    )\n",
    ")"
   ]
  }
 ],
 "metadata": {
  "kernelspec": {
   "display_name": "Python 3",
   "language": "python",
   "name": "python3"
  },
  "language_info": {
   "codemirror_mode": {
    "name": "ipython",
    "version": 3
   },
   "file_extension": ".py",
   "mimetype": "text/x-python",
   "name": "python",
   "nbconvert_exporter": "python",
   "pygments_lexer": "ipython3",
   "version": "3.7.4"
  }
 },
 "nbformat": 4,
 "nbformat_minor": 4
}
