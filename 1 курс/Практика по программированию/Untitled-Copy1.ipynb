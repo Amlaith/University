{
 "cells": [
  {
   "cell_type": "code",
   "execution_count": 3,
   "metadata": {},
   "outputs": [],
   "source": [
    "## Заваруев\n",
    "\n",
    "### Задача 4.1\n",
    "\n",
    "def stroka():\n",
    "    \"\"\"Для введенной строки выведите (на отдельной строке):\n",
    "* второй символ этой строки;\n",
    "* предпоследний символ этой строки;\n",
    "* первые 3 символа этой строки;\n",
    "* всю строку, кроме последних двух символов;\n",
    "* все символы с четными индексами (считая, что индексация начинается с 0,\n",
    "поэтому символы выводятся начиная с первого);\n",
    "* все символы с нечетными индексами, то есть начиная со второго символа\n",
    "строки;\n",
    "* все символы в обратном порядке;\n",
    "* все символы строки через один в обратном порядке, начиная с последнего;\n",
    "* длину данной строки.\"\"\"\n",
    "    \n",
    "    s = input('String: ')\n",
    "\n",
    "    print(s[1])\n",
    "    print(s[-2])\n",
    "    print(s[:3])\n",
    "    print(s[:-2])\n",
    "    print(s[1::2])\n",
    "    print(s[::2])\n",
    "    print(s[::-1])\n",
    "    print(s[-1::-2])\n",
    "    print(len(s))"
   ]
  }
 ],
 "metadata": {
  "kernelspec": {
   "display_name": "Python 3",
   "language": "python",
   "name": "python3"
  },
  "language_info": {
   "codemirror_mode": {
    "name": "ipython",
    "version": 3
   },
   "file_extension": ".py",
   "mimetype": "text/x-python",
   "name": "python",
   "nbconvert_exporter": "python",
   "pygments_lexer": "ipython3",
   "version": "3.7.4"
  }
 },
 "nbformat": 4,
 "nbformat_minor": 2
}
