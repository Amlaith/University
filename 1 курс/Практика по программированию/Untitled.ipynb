{
 "cells": [
  {
   "cell_type": "code",
   "execution_count": 41,
   "metadata": {
    "scrolled": true
   },
   "outputs": [
    {
     "name": "stdout",
     "output_type": "stream",
     "text": [
      "Node, stores 5 Node, stores 4\n",
      "Node, stores 5 Node, stores 2\n",
      "Node, stores 4 Node, stores 2\n",
      "Node, stores 5 Node, stores 9\n",
      "Node, stores 5 Node, stores 1\n",
      "Node, stores 4 Node, stores 1\n",
      "Node, stores 2 Node, stores 1\n",
      "Node, stores 5 Node, stores 6\n",
      "Node, stores 9 Node, stores 6\n"
     ]
    }
   ],
   "source": [
    "\n",
    "# двоичное дерево - построение дерева для выражения и реализация различных способов обхода\n",
    "class Tree:\n",
    "    \n",
    "    def __init__(self, root = None):\n",
    "        self.root = Node(root)\n",
    "        \n",
    "    \n",
    "    def addNode(self, data):\n",
    "        'добавление ячейки в дерево'\n",
    "        Node(data)._put(self)\n",
    "        \n",
    "    \n",
    "    def showTree(self):\n",
    "        print(self.root)\n",
    "        \n",
    "    \n",
    "    def printGivenLevel(self, root, level):\n",
    "        if root == None:\n",
    "            return\n",
    "        if level == 1:\n",
    "            print(root.data)\n",
    "        elif level > 1:\n",
    "            self.printGivenLevel(root.left, level-1);\n",
    "            self.printGivenLevel(root.right, level-1);\n",
    "\n",
    "\n",
    "class Node:    \n",
    "    def __init__(self, data, left = None, right = None):\n",
    "        self.data = data\n",
    "        self.left = left\n",
    "        self.right = right\n",
    "        \n",
    "    \n",
    "    def __repr__(self):\n",
    "        return f'Node, stores {self.data}'\n",
    "    \n",
    "    \n",
    "    def _put(self, tree):\n",
    "        'Делает ячейку корнем пустого дерева, или вызов __put'\n",
    "        if not tree.root:\n",
    "            tree.root = self\n",
    "        else:\n",
    "            self.__put(tree.root)\n",
    "        \n",
    "    \n",
    "    def __put(self, node):\n",
    "        'Ищет нужное место для ячейки и вставляет ее туда'\n",
    "        print(node, self)\n",
    "        if node.data < self.data:\n",
    "            if node.right:\n",
    "                self.__put(node.right)\n",
    "            else:\n",
    "                node.right = self\n",
    "        else:\n",
    "            if node.left:\n",
    "                self.__put(node.left)\n",
    "            else:\n",
    "                node.left = self\n",
    "                \n",
    "t = Tree(5)\n",
    "t.addNode(4)\n",
    "t.addNode(2)\n",
    "t.addNode(9)\n",
    "t.addNode(1)\n",
    "t.addNode(6)\n",
    "# t.showTree()\n",
    "# print(t.root.left)\n",
    "# print(t.root.left.left)\n",
    "# print(t.root.left.right)\n",
    "# print(t.root.right)\n",
    "# print(t.root.right.left)\n",
    "# print(t.root.right.right)\n",
    "\n",
    "# print('lvl1')\n",
    "# t.printGivenLevel(t.root, 1)\n",
    "\n",
    "# print('lvl2')\n",
    "# t.printGivenLevel(t.root, 2)\n",
    "\n",
    "# print('lvl3')\n",
    "# t.printGivenLevel(t.root, 3)\n",
    "\n",
    "t.root.right.right"
   ]
  },
  {
   "cell_type": "code",
   "execution_count": 32,
   "metadata": {},
   "outputs": [
    {
     "data": {
      "text/plain": [
       "5"
      ]
     },
     "execution_count": 32,
     "metadata": {},
     "output_type": "execute_result"
    }
   ],
   "source": [
    "5"
   ]
  }
 ],
 "metadata": {
  "kernelspec": {
   "display_name": "Python 3",
   "language": "python",
   "name": "python3"
  },
  "language_info": {
   "codemirror_mode": {
    "name": "ipython",
    "version": 3
   },
   "file_extension": ".py",
   "mimetype": "text/x-python",
   "name": "python",
   "nbconvert_exporter": "python",
   "pygments_lexer": "ipython3",
   "version": "3.7.4"
  }
 },
 "nbformat": 4,
 "nbformat_minor": 2
}
