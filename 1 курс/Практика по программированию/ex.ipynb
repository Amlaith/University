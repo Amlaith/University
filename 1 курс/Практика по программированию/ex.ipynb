{
 "cells": [
  {
   "cell_type": "markdown",
   "metadata": {},
   "source": [
    "# Вариант 2"
   ]
  },
  {
   "cell_type": "code",
   "execution_count": 44,
   "metadata": {
    "scrolled": true
   },
   "outputs": [
    {
     "name": "stdout",
     "output_type": "stream",
     "text": [
      "[88, 58, 100, 57, 55, 21, 66, 24, 53, 38, 7]\n",
      "[34, 22, 27, 76, 69, 44, 47, 38, 42, 41, 14]\n",
      "[76, 76, 40, 28, 51, 69, 78, 24, 66, 16, 52]\n",
      "[29, 22, 95, 29, 36, 24, 66, 3, 93, 23, 17]\n",
      "[89, 79, 90, 23, 15, 49, 47, 73, 33, 19, 62]\n",
      "[47, 10, 53, 54, 67, 74, 89, 82, 18, 100, 91]\n",
      "[28, 50, 88, 67, 92, 93, 34, 89, 32, 1, 91]\n",
      "[2, 89, 57, 7, 31, 92, 85, 6, 65, 1, 34]\n",
      "[62, 81, 55, 45, 61, 93, 23, 73, 90, 19, 7]\n",
      "[75, 26, 23, 43, 91, 93, 58, 49, 14, 54, 95]\n",
      "[91, 32, 34, 77, 99, 4, 85, 70, 74, 93, 66]\n",
      "{621: 0, 545: 1, 662: 2, 506: 3, 667: 4, 656: 5, 678: 6, 531: 7, 580: 8, 405: 9, 536: 10}\n",
      "[405, 506, 531, 536, 545, 580, 621, 656, 662, 667, 678]\n"
     ]
    },
    {
     "data": {
      "text/plain": [
       "[[38, 57, 24, 7, 58, 53, 88, 21, 100, 55, 66],\n",
       " [41, 76, 38, 14, 22, 42, 34, 44, 27, 69, 47],\n",
       " [16, 28, 24, 52, 76, 66, 76, 69, 40, 51, 78],\n",
       " [23, 29, 3, 17, 22, 93, 29, 24, 95, 36, 66],\n",
       " [19, 23, 73, 62, 79, 33, 89, 49, 90, 15, 47],\n",
       " [100, 54, 82, 91, 10, 18, 47, 74, 53, 67, 89],\n",
       " [1, 67, 89, 91, 50, 32, 28, 93, 88, 92, 34],\n",
       " [1, 7, 6, 34, 89, 65, 2, 92, 57, 31, 85],\n",
       " [19, 45, 73, 7, 81, 90, 62, 93, 55, 61, 23],\n",
       " [54, 43, 49, 95, 26, 14, 75, 93, 23, 91, 58],\n",
       " [93, 77, 70, 66, 32, 74, 91, 4, 34, 99, 85]]"
      ]
     },
     "execution_count": 44,
     "metadata": {},
     "output_type": "execute_result"
    }
   ],
   "source": [
    "# задание 1\n",
    "import random\n",
    "m = [[random.randint(0, 100) for i in range(11)] for j in range(11)] #создали матрицу 11х11 с числами\n",
    "\n",
    "\n",
    "sum = [0] * 11 # список для сумм\n",
    "\n",
    "for i in range(11): # заполнили список суммами столбцов\n",
    "    for line in m:\n",
    "        sum[i] += line[i]\n",
    "        \n",
    "        \n",
    "dct = {sum[i] : i for i in range(11)} # словарь, каждой сумме соответсвует начальный номер столбца по порядку\n",
    "print(dct)\n",
    "\n",
    "\n",
    "sum = sorted(sum) # сортируем список сумм\n",
    "print(sum)\n",
    "\n",
    "\n",
    "sorted_m = [[m[j][dct[sum[i]]] for i in range(11)] for j in range(11)] # заполняем новую матрицу\n",
    "sorted_m"
   ]
  },
  {
   "cell_type": "markdown",
   "metadata": {},
   "source": [
    "# Вариант 4"
   ]
  },
  {
   "cell_type": "code",
   "execution_count": 58,
   "metadata": {},
   "outputs": [
    {
     "data": {
      "text/plain": [
       "['8', '70', '83', '7', '1', '24']"
      ]
     },
     "execution_count": 58,
     "metadata": {},
     "output_type": "execute_result"
    }
   ],
   "source": [
    "# задание 1\n",
    "sample = 'ab8o70c83cde7 1 b 24'\n",
    "result = []\n",
    "# for i in range(len(sample)):\n",
    "#     if sample[i] in '0123456789':\n",
    "#         if sample[i-i] not in '0123456789' or i != 0:\n",
    "#             result[j] += sample[i]\n",
    "#         else:\n",
    "temp = ''        \n",
    "for i in sample:\n",
    "    if i.isdigit():\n",
    "        temp += i\n",
    "    else:\n",
    "        if temp:\n",
    "            result.append(temp)\n",
    "            temp = ''\n",
    "if temp:\n",
    "    result.append(temp)\n",
    "    \n",
    "result"
   ]
  },
  {
   "cell_type": "code",
   "execution_count": 77,
   "metadata": {},
   "outputs": [
    {
     "name": "stdout",
     "output_type": "stream",
     "text": [
      "Точка с кооринатами 2 и 0\n",
      "Точка с кооринатами 91 и 21\n",
      "Точка с кооринатами 59 и 37\n",
      "Точка с кооринатами 51 и 90\n",
      "Точка с кооринатами 27 и 17\n",
      "Точка с кооринатами 31 и 93\n",
      "Точка с кооринатами 86 и 48\n",
      "Точка с кооринатами 52 и 26\n",
      "Точка с кооринатами 59 и 53\n",
      "Точка с кооринатами -6 и 67\n",
      "Точка с кооринатами 71 и 51\n",
      "Точка с кооринатами 55 и 30\n",
      "Точка с кооринатами 67 и 42\n",
      "Точка с кооринатами 58 и 23\n",
      "Точка с кооринатами 89 и 15\n",
      "Точка с кооринатами -8 и 17\n",
      "Точка с кооринатами 63 и 76\n",
      "Точка с кооринатами 8 и 47\n",
      "Точка с кооринатами 10 и 78\n",
      "Точка с кооринатами 23 и 74\n"
     ]
    }
   ],
   "source": [
    "# задание 2\n",
    "import random\n",
    "class Point:\n",
    "    def __init__(self, x = 0, y = 0):\n",
    "        self.x = x\n",
    "        self.y = y\n",
    "    def __str__(self):\n",
    "        return f'Точка с кооринатами {self.x} и {self.y}'\n",
    "        \n",
    "# t1 = Point(10, 14)\n",
    "# t2 = Point(6, 5)\n",
    "# print(t1.x, t1.y)\n",
    "# print(t2.x, t2.y)\n",
    "# print(t2)\n",
    "dots = [Point(random.randint(-10, 100),random.randint(-10, 100)) for _ in range(20)]\n",
    "for dot in dots :\n",
    "    print(dot)\n",
    "\n",
    "p = []   \n",
    "\n",
    "for i in range(20):\n",
    "    for j in range(20):\n",
    "        if j != i:\n",
    "            for k in range(20):\n",
    "                if k != i and k != j:\n",
    "                    d1 = dots[i]\n",
    "                    d2 = dots[j]\n",
    "                    d3 = dots[k]\n",
    "                    \n",
    "                    p.append()"
   ]
  },
  {
   "cell_type": "code",
   "execution_count": null,
   "metadata": {},
   "outputs": [],
   "source": []
  }
 ],
 "metadata": {
  "kernelspec": {
   "display_name": "Python 3",
   "language": "python",
   "name": "python3"
  },
  "language_info": {
   "codemirror_mode": {
    "name": "ipython",
    "version": 3
   },
   "file_extension": ".py",
   "mimetype": "text/x-python",
   "name": "python",
   "nbconvert_exporter": "python",
   "pygments_lexer": "ipython3",
   "version": "3.7.4"
  }
 },
 "nbformat": 4,
 "nbformat_minor": 2
}
