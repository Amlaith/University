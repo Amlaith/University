{
 "cells": [
  {
   "cell_type": "code",
   "execution_count": 3,
   "metadata": {},
   "outputs": [],
   "source": [
    "## Заваруев\n",
    "\n",
    "### Задача 9.1\n",
    "\n",
    "from functools import reduce\n",
    "\n",
    "\n",
    "def read_write():\n",
    "    \"\"\"\t1) Задание Python 9_1:\n",
    "Считать из файла input.txt 10 чисел (числа записаны через пробел).\n",
    "Затем записать их произведение в файл output.txt.\n",
    "\t2) В той же программы создать объект (структуру)  и записать в двоичный файл (ф-я dump)\n",
    "    \"\"\"\n",
    "    with open('input.txt') as input_txt:\n",
    "        nums = reduce(\n",
    "            lambda x, y: x*y,\n",
    "            map(\n",
    "                lambda x: int(x),\n",
    "                input_txt.read().split(' ')[:10],\n",
    "            ),\n",
    "        )\n",
    "    with open('output.txt', 'w') as output_txt:\n",
    "        output_txt.write(str(nums))\n",
    "\n",
    "    with open('dump.txt', 'wb') as dump_txt:\n",
    "        dump(str(nums), dump_txt)\n",
    "        \n",
    "read_write()\n",
    "\n"
   ]
  },
  {
   "cell_type": "code",
   "execution_count": null,
   "metadata": {},
   "outputs": [],
   "source": []
  },
  {
   "cell_type": "code",
   "execution_count": null,
   "metadata": {},
   "outputs": [],
   "source": [
    "#1. При помощи механизма map/filter/reduce возвести число 5 в степени от 0 до 10. Результатом должен быть список.\n"
   ]
  },
  {
   "cell_type": "code",
   "execution_count": 11,
   "metadata": {},
   "outputs": [
    {
     "name": "stdout",
     "output_type": "stream",
     "text": [
      "Case #1: 1\n",
      "Case #2: 0\n",
      "Case #3: 2\n",
      "Case #4: 0\n"
     ]
    }
   ],
   "source": [
    "inpt = input().split('\\n')[::2]\n",
    "output = ''\n",
    "for case in range(int(inpt[0])):\n",
    "    checks = list(map(int, inpt[case+1].split(' ')))\n",
    "    res = 0\n",
    "    for index, value in enumerate(checks[:-1]):\n",
    "        if index == 0:\n",
    "            continue\n",
    "        if value > checks[index-1] and value > checks[index+1]:\n",
    "            res += 1\n",
    "    output += 'Case #{}: {}\\n'.format(case + 1, res)   \n",
    "output = output.rstrip()\n",
    "print(output)"
   ]
  },
  {
   "cell_type": "code",
   "execution_count": 3,
   "metadata": {},
   "outputs": [
    {
     "name": "stdout",
     "output_type": "stream",
     "text": [
      "3\n",
      "3\n",
      "10 20 10\n",
      "Case #1: 1\n",
      "4\n",
      "4 4 4 4\n",
      "Case #2: 0\n",
      "5\n",
      "20 10 90 20 10\n",
      "Case #3: 1\n"
     ]
    }
   ],
   "source": [
    "t = int(input())\n",
    "for i in range(1, t + 1):\n",
    "    n = int(input())\n",
    "    checks = [int(s) for s in input().split(\" \")]\n",
    "    res = 0\n",
    "    for index in range(n-1):\n",
    "        if index == 0:\n",
    "            continue\n",
    "        current = checks[index]\n",
    "        if current > checks[index-1] and current > checks[index+1]:\n",
    "            res = res + 1\n",
    "    print(\"Case #{}: {}\".format(i, res))"
   ]
  },
  {
   "cell_type": "code",
   "execution_count": 24,
   "metadata": {},
   "outputs": [
    {
     "name": "stdout",
     "output_type": "stream",
     "text": [
      "4\n"
     ]
    }
   ],
   "source": [
    "s = '456 45 345'\n",
    "\n",
    "print(s.find('45', 2))"
   ]
  },
  {
   "cell_type": "code",
   "execution_count": 81,
   "metadata": {},
   "outputs": [
    {
     "data": {
      "text/plain": [
       "1"
      ]
     },
     "execution_count": 81,
     "metadata": {},
     "output_type": "execute_result"
    }
   ],
   "source": [
    "class Base:\n",
    "    v = 1\n",
    "    def __init__(self):\n",
    "        self.y = 10\n",
    "\n",
    "class Child(Base):\n",
    "    def __init__(self, new):\n",
    "        self.v=new\n",
    "        \n",
    "c = Child('new')\n",
    "Base.v"
   ]
  },
  {
   "cell_type": "code",
   "execution_count": 9,
   "metadata": {},
   "outputs": [
    {
     "data": {
      "text/plain": [
       "3"
      ]
     },
     "execution_count": 9,
     "metadata": {},
     "output_type": "execute_result"
    }
   ],
   "source": [
    "def diff(a, b):\n",
    "    a, b = bin(a)[2], bin(b)[2]\n",
    "    for "
   ]
  },
  {
   "cell_type": "code",
   "execution_count": 15,
   "metadata": {},
   "outputs": [
    {
     "name": "stdout",
     "output_type": "stream",
     "text": [
      "Help on module pprint:\n",
      "\n",
      "NAME\n",
      "    pprint - Support to pretty-print lists, tuples, & dictionaries recursively.\n",
      "\n",
      "DESCRIPTION\n",
      "    Very simple, but useful, especially in debugging data structures.\n",
      "    \n",
      "    Classes\n",
      "    -------\n",
      "    \n",
      "    PrettyPrinter()\n",
      "        Handle pretty-printing operations onto a stream using a configured\n",
      "        set of formatting parameters.\n",
      "    \n",
      "    Functions\n",
      "    ---------\n",
      "    \n",
      "    pformat()\n",
      "        Format a Python object into a pretty-printed representation.\n",
      "    \n",
      "    pprint()\n",
      "        Pretty-print a Python object to a stream [default is sys.stdout].\n",
      "    \n",
      "    saferepr()\n",
      "        Generate a 'standard' repr()-like value, but protect against recursive\n",
      "        data structures.\n",
      "\n",
      "CLASSES\n",
      "    builtins.object\n",
      "        PrettyPrinter\n",
      "    \n",
      "    class PrettyPrinter(builtins.object)\n",
      "     |  PrettyPrinter(indent=1, width=80, depth=None, stream=None, *, compact=False)\n",
      "     |  \n",
      "     |  Methods defined here:\n",
      "     |  \n",
      "     |  __init__(self, indent=1, width=80, depth=None, stream=None, *, compact=False)\n",
      "     |      Handle pretty printing operations onto a stream using a set of\n",
      "     |      configured parameters.\n",
      "     |      \n",
      "     |      indent\n",
      "     |          Number of spaces to indent for each level of nesting.\n",
      "     |      \n",
      "     |      width\n",
      "     |          Attempted maximum number of columns in the output.\n",
      "     |      \n",
      "     |      depth\n",
      "     |          The maximum depth to print out nested structures.\n",
      "     |      \n",
      "     |      stream\n",
      "     |          The desired output stream.  If omitted (or false), the standard\n",
      "     |          output stream available at construction will be used.\n",
      "     |      \n",
      "     |      compact\n",
      "     |          If true, several items will be combined in one line.\n",
      "     |  \n",
      "     |  format(self, object, context, maxlevels, level)\n",
      "     |      Format object for a specific context, returning a string\n",
      "     |      and flags indicating whether the representation is 'readable'\n",
      "     |      and whether the object represents a recursive construct.\n",
      "     |  \n",
      "     |  isreadable(self, object)\n",
      "     |  \n",
      "     |  isrecursive(self, object)\n",
      "     |  \n",
      "     |  pformat(self, object)\n",
      "     |  \n",
      "     |  pprint(self, object)\n",
      "     |  \n",
      "     |  ----------------------------------------------------------------------\n",
      "     |  Data descriptors defined here:\n",
      "     |  \n",
      "     |  __dict__\n",
      "     |      dictionary for instance variables (if defined)\n",
      "     |  \n",
      "     |  __weakref__\n",
      "     |      list of weak references to the object (if defined)\n",
      "\n",
      "FUNCTIONS\n",
      "    isreadable(object)\n",
      "        Determine if saferepr(object) is readable by eval().\n",
      "    \n",
      "    isrecursive(object)\n",
      "        Determine if object requires a recursive representation.\n",
      "    \n",
      "    pformat(object, indent=1, width=80, depth=None, *, compact=False)\n",
      "        Format a Python object into a pretty-printed representation.\n",
      "    \n",
      "    pprint(object, stream=None, indent=1, width=80, depth=None, *, compact=False)\n",
      "        Pretty-print a Python object to a stream [default is sys.stdout].\n",
      "    \n",
      "    saferepr(object)\n",
      "        Version of repr() which can handle recursive data structures.\n",
      "\n",
      "DATA\n",
      "    __all__ = ['pprint', 'pformat', 'isreadable', 'isrecursive', 'saferepr...\n",
      "\n",
      "FILE\n",
      "    c:\\users\\user\\anaconda3\\lib\\pprint.py\n",
      "\n",
      "\n"
     ]
    }
   ],
   "source": [
    "import pprint\n",
    "a = {\n",
    "    1: 412,\n",
    "    2: 214,\n",
    "    3: 52,\n",
    "    21: {\n",
    "        5: 325,\n",
    "        52: 253,\n",
    "        25: {\n",
    "            524: 23,\n",
    "            26: 2624,\n",
    "            363: 235,\n",
    "        },\n",
    "        62: 2542,\n",
    "    },\n",
    "    2352: 264,\n",
    "    23654: 234,\n",
    "    35: 264,\n",
    "    25: {\n",
    "        245: 64,\n",
    "        76: 2423,\n",
    "        867: 434,\n",
    "    },\n",
    "}\n",
    "help(pprint)"
   ]
  }
 ],
 "metadata": {
  "kernelspec": {
   "display_name": "Python 3",
   "language": "python",
   "name": "python3"
  },
  "language_info": {
   "codemirror_mode": {
    "name": "ipython",
    "version": 3
   },
   "file_extension": ".py",
   "mimetype": "text/x-python",
   "name": "python",
   "nbconvert_exporter": "python",
   "pygments_lexer": "ipython3",
   "version": "3.8.3"
  }
 },
 "nbformat": 4,
 "nbformat_minor": 2
}
