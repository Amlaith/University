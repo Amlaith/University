{
 "cells": [
  {
   "cell_type": "markdown",
   "metadata": {},
   "source": [
    "### Заваруев И., ПИ19-1в\n",
    "### Задания для самостоятельной работы 13.04"
   ]
  },
  {
   "cell_type": "code",
   "execution_count": 7,
   "metadata": {
    "scrolled": true
   },
   "outputs": [
    {
     "name": "stdout",
     "output_type": "stream",
     "text": [
      "Класс\n",
      "<__main__.Fibo_class object at 0x000002132A0CF908>\n",
      "1\n",
      "1\n",
      "2\n",
      "3\n",
      "5\n",
      "8\n",
      "13\n",
      "21\n",
      "34\n",
      "55\n",
      "Функция\n",
      "<generator object fibo_foo at 0x000002132A0AA548>\n",
      "1\n",
      "1\n",
      "2\n",
      "3\n",
      "5\n",
      "8\n",
      "13\n",
      "21\n",
      "34\n",
      "55\n"
     ]
    }
   ],
   "source": [
    "# 1. Напишите итератор n чисел Фибоначчи двумя способами: класс и функцию генератор. Выведите первые 10 чисел на экран.\n",
    "class Fibo_class:\n",
    "    def __init__(self, n):\n",
    "        self.pre = 0\n",
    "        self.cur = 1\n",
    "        self.count = n\n",
    "    \n",
    "    \n",
    "    def __iter__(self):\n",
    "        return self\n",
    "    \n",
    "    \n",
    "    def __next__(self):\n",
    "        if self.count > 0:\n",
    "            current = self.cur\n",
    "            self.pre, self.cur = self.cur, self.cur + self.pre\n",
    "            self.count -= 1\n",
    "            return current\n",
    "        else:\n",
    "            raise StopIteration\n",
    "\n",
    "\n",
    "a = Fibo_class(10)\n",
    "print('Класс')\n",
    "print(a)\n",
    "for i in a:\n",
    "    print(i)\n",
    "    \n",
    "\n",
    "def fibo_foo(n):\n",
    "    pre = 0\n",
    "    cur = 1\n",
    "    for _ in range(n):\n",
    "        yield cur\n",
    "        pre, cur = cur, pre + cur\n",
    "\n",
    "\n",
    "b = fibo_foo(10)\n",
    "print('Функция')\n",
    "print(b)\n",
    "for i in b:\n",
    "    print(i)"
   ]
  },
  {
   "cell_type": "code",
   "execution_count": 34,
   "metadata": {},
   "outputs": [
    {
     "name": "stdout",
     "output_type": "stream",
     "text": [
      "0\n",
      "1.32\n",
      "2.64\n",
      "3.96\n",
      "5.28\n",
      "6.6\n",
      "7.92\n",
      "9.24\n"
     ]
    }
   ],
   "source": [
    "# 2 Напишите функцию-генератор my_range(start, stop, inc) аналог range(start, stop, inc), у которой шаг inc может быть любым числом (не обязательно целым).\n",
    "def my_range(start, stop, inc):\n",
    "    precision = max( # знаки после запятой\n",
    "        [0] +\n",
    "        list(\n",
    "            map(\n",
    "                lambda x: len(str(x).split('.')[1]),\n",
    "                filter(\n",
    "                    lambda x: type(x) == float,\n",
    "                    (start, stop, inc)\n",
    "                )\n",
    "            )\n",
    "        )\n",
    "    )\n",
    "    while start < stop:\n",
    "        yield round(start, precision)\n",
    "        start += inc\n",
    "        \n",
    "        \n",
    "for i in my_range(0, 10, 1.32):\n",
    "    print(i)"
   ]
  },
  {
   "cell_type": "code",
   "execution_count": 35,
   "metadata": {},
   "outputs": [
    {
     "data": {
      "text/plain": [
       "4"
      ]
     },
     "execution_count": 35,
     "metadata": {},
     "output_type": "execute_result"
    }
   ],
   "source": [
    "# 3. Вычислите, сколько слов в заданном списке имеют длину 2, не создавая список этих слов (в одну строку).\n",
    "words = ['a', 'ab', 'ac', 'abc', 'abd', 'bc', 'bd', 'bde']\n",
    "sum(map(lambda word: True if len(word) == 2 else False, words))"
   ]
  },
  {
   "cell_type": "code",
   "execution_count": 36,
   "metadata": {},
   "outputs": [
    {
     "data": {
      "text/plain": [
       "15"
      ]
     },
     "execution_count": 36,
     "metadata": {},
     "output_type": "execute_result"
    }
   ],
   "source": [
    "# 4. Вычислите сумму положительных элементов списка, используя генераторные выражения.\n",
    "spisok = [1, -1, 2, -2, 3, 4, 5, -5]\n",
    "sum([a for a in spisok if a > 0])"
   ]
  }
 ],
 "metadata": {
  "kernelspec": {
   "display_name": "Python 3",
   "language": "python",
   "name": "python3"
  },
  "language_info": {
   "codemirror_mode": {
    "name": "ipython",
    "version": 3
   },
   "file_extension": ".py",
   "mimetype": "text/x-python",
   "name": "python",
   "nbconvert_exporter": "python",
   "pygments_lexer": "ipython3",
   "version": "3.7.4"
  }
 },
 "nbformat": 4,
 "nbformat_minor": 2
}
